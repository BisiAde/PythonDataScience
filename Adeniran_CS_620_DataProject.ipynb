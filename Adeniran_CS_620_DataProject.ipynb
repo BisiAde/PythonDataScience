{
  "nbformat": 4,
  "nbformat_minor": 0,
  "metadata": {
    "colab": {
      "name": "Adeniran_CS 620_DataProject.ipynb",
      "provenance": [],
      "collapsed_sections": []
    },
    "kernelspec": {
      "name": "python3",
      "display_name": "Python 3"
    }
  },
  "cells": [
    {
      "cell_type": "code",
      "metadata": {
        "id": "5T1rxqYVOGJC",
        "colab_type": "code",
        "outputId": "7c42765e-6d50-4829-c2e1-00257f9c042e",
        "colab": {
          "base_uri": "https://localhost:8080/",
          "height": 131
        }
      },
      "source": [
        "Project Abstract:\n",
        "\n",
        "Project dataset links : https://data.norfolk.gov/Government/Employee-Demographics/vv96-9m5c\n",
        "   \n",
        "                      : https://data.norfolk.gov/Government/Employee-Salaries/4fsk-z8s8\n",
        " \n",
        "The problem of job descrimination amongst Norfolk residents will continue to be a source of concern. While the reason for this still remain a mystery some might be justified\n",
        "while others might not.  \n",
        "This project seeks to identify \n",
        "1.\tThe truthfullness of this hypothesis. Is job descrimanation real or is it a myth?\n",
        "2.\tAre there gender inequality prevalent in the hiring system in the city of Norfolk?\n",
        "3.\tWho makes more in terms of salary? can your qualification account for a pay increase or the years or experience you have\n",
        "4.\tRacially motivated or not racially "
      ],
      "execution_count": 0,
      "outputs": [
        {
          "output_type": "error",
          "ename": "SyntaxError",
          "evalue": "ignored",
          "traceback": [
            "\u001b[0;36m  File \u001b[0;32m\"<ipython-input-42-8bb413341947>\"\u001b[0;36m, line \u001b[0;32m1\u001b[0m\n\u001b[0;31m    Project Abstract:\u001b[0m\n\u001b[0m                   ^\u001b[0m\n\u001b[0;31mSyntaxError\u001b[0m\u001b[0;31m:\u001b[0m invalid syntax\n"
          ]
        }
      ]
    },
    {
      "cell_type": "code",
      "metadata": {
        "id": "3-VGRPH-OJ5K",
        "colab_type": "code",
        "outputId": "f83ce1b0-8dea-4217-aebf-342f3de0cb24",
        "colab": {
          "base_uri": "https://localhost:8080/",
          "height": 52
        }
      },
      "source": [
        "import numpy as np\n",
        "import pandas as pd\n",
        "import matplotlib.pyplot as plt\n",
        "%matplotlib inline\n",
        "import seaborn as sns\n",
        "import datetime\n",
        "from nltk.corpus import stopwords\n",
        "from scipy import stats, integrate\n",
        "\n",
        "from sklearn import preprocessing\n",
        "from sklearn.model_selection import KFold\n",
        "from sklearn.linear_model import LinearRegression\n",
        "sns.set(color_codes=True)\n",
        "from sklearn import datasets, linear_model\n",
        "\n",
        "!pip install nltk"
      ],
      "execution_count": 0,
      "outputs": [
        {
          "output_type": "stream",
          "text": [
            "Requirement already satisfied: nltk in /usr/local/lib/python3.6/dist-packages (3.2.5)\n",
            "Requirement already satisfied: six in /usr/local/lib/python3.6/dist-packages (from nltk) (1.12.0)\n"
          ],
          "name": "stdout"
        }
      ]
    },
    {
      "cell_type": "code",
      "metadata": {
        "id": "RMzrGyN_5Ieo",
        "colab_type": "code",
        "outputId": "2985b993-b03e-46e2-c6bf-cd61e387a926",
        "colab": {
          "base_uri": "https://localhost:8080/",
          "height": 68
        }
      },
      "source": [
        "import nltk\n",
        "nltk.download('stopwords')"
      ],
      "execution_count": 0,
      "outputs": [
        {
          "output_type": "stream",
          "text": [
            "[nltk_data] Downloading package stopwords to /root/nltk_data...\n",
            "[nltk_data]   Unzipping corpora/stopwords.zip.\n"
          ],
          "name": "stdout"
        },
        {
          "output_type": "execute_result",
          "data": {
            "text/plain": [
              "True"
            ]
          },
          "metadata": {
            "tags": []
          },
          "execution_count": 5
        }
      ]
    },
    {
      "cell_type": "code",
      "metadata": {
        "id": "lzdSTzXxnL1g",
        "colab_type": "code",
        "outputId": "cc6dc982-5c7e-48ea-eb08-579613607546",
        "colab": {
          "resources": {
            "http://localhost:8080/nbextensions/google.colab/files.js": {
              "data": "Ly8gQ29weXJpZ2h0IDIwMTcgR29vZ2xlIExMQwovLwovLyBMaWNlbnNlZCB1bmRlciB0aGUgQXBhY2hlIExpY2Vuc2UsIFZlcnNpb24gMi4wICh0aGUgIkxpY2Vuc2UiKTsKLy8geW91IG1heSBub3QgdXNlIHRoaXMgZmlsZSBleGNlcHQgaW4gY29tcGxpYW5jZSB3aXRoIHRoZSBMaWNlbnNlLgovLyBZb3UgbWF5IG9idGFpbiBhIGNvcHkgb2YgdGhlIExpY2Vuc2UgYXQKLy8KLy8gICAgICBodHRwOi8vd3d3LmFwYWNoZS5vcmcvbGljZW5zZXMvTElDRU5TRS0yLjAKLy8KLy8gVW5sZXNzIHJlcXVpcmVkIGJ5IGFwcGxpY2FibGUgbGF3IG9yIGFncmVlZCB0byBpbiB3cml0aW5nLCBzb2Z0d2FyZQovLyBkaXN0cmlidXRlZCB1bmRlciB0aGUgTGljZW5zZSBpcyBkaXN0cmlidXRlZCBvbiBhbiAiQVMgSVMiIEJBU0lTLAovLyBXSVRIT1VUIFdBUlJBTlRJRVMgT1IgQ09ORElUSU9OUyBPRiBBTlkgS0lORCwgZWl0aGVyIGV4cHJlc3Mgb3IgaW1wbGllZC4KLy8gU2VlIHRoZSBMaWNlbnNlIGZvciB0aGUgc3BlY2lmaWMgbGFuZ3VhZ2UgZ292ZXJuaW5nIHBlcm1pc3Npb25zIGFuZAovLyBsaW1pdGF0aW9ucyB1bmRlciB0aGUgTGljZW5zZS4KCi8qKgogKiBAZmlsZW92ZXJ2aWV3IEhlbHBlcnMgZm9yIGdvb2dsZS5jb2xhYiBQeXRob24gbW9kdWxlLgogKi8KKGZ1bmN0aW9uKHNjb3BlKSB7CmZ1bmN0aW9uIHNwYW4odGV4dCwgc3R5bGVBdHRyaWJ1dGVzID0ge30pIHsKICBjb25zdCBlbGVtZW50ID0gZG9jdW1lbnQuY3JlYXRlRWxlbWVudCgnc3BhbicpOwogIGVsZW1lbnQudGV4dENvbnRlbnQgPSB0ZXh0OwogIGZvciAoY29uc3Qga2V5IG9mIE9iamVjdC5rZXlzKHN0eWxlQXR0cmlidXRlcykpIHsKICAgIGVsZW1lbnQuc3R5bGVba2V5XSA9IHN0eWxlQXR0cmlidXRlc1trZXldOwogIH0KICByZXR1cm4gZWxlbWVudDsKfQoKLy8gTWF4IG51bWJlciBvZiBieXRlcyB3aGljaCB3aWxsIGJlIHVwbG9hZGVkIGF0IGEgdGltZS4KY29uc3QgTUFYX1BBWUxPQURfU0laRSA9IDEwMCAqIDEwMjQ7Ci8vIE1heCBhbW91bnQgb2YgdGltZSB0byBibG9jayB3YWl0aW5nIGZvciB0aGUgdXNlci4KY29uc3QgRklMRV9DSEFOR0VfVElNRU9VVF9NUyA9IDMwICogMTAwMDsKCmZ1bmN0aW9uIF91cGxvYWRGaWxlcyhpbnB1dElkLCBvdXRwdXRJZCkgewogIGNvbnN0IHN0ZXBzID0gdXBsb2FkRmlsZXNTdGVwKGlucHV0SWQsIG91dHB1dElkKTsKICBjb25zdCBvdXRwdXRFbGVtZW50ID0gZG9jdW1lbnQuZ2V0RWxlbWVudEJ5SWQob3V0cHV0SWQpOwogIC8vIENhY2hlIHN0ZXBzIG9uIHRoZSBvdXRwdXRFbGVtZW50IHRvIG1ha2UgaXQgYXZhaWxhYmxlIGZvciB0aGUgbmV4dCBjYWxsCiAgLy8gdG8gdXBsb2FkRmlsZXNDb250aW51ZSBmcm9tIFB5dGhvbi4KICBvdXRwdXRFbGVtZW50LnN0ZXBzID0gc3RlcHM7CgogIHJldHVybiBfdXBsb2FkRmlsZXNDb250aW51ZShvdXRwdXRJZCk7Cn0KCi8vIFRoaXMgaXMgcm91Z2hseSBhbiBhc3luYyBnZW5lcmF0b3IgKG5vdCBzdXBwb3J0ZWQgaW4gdGhlIGJyb3dzZXIgeWV0KSwKLy8gd2hlcmUgdGhlcmUgYXJlIG11bHRpcGxlIGFzeW5jaHJvbm91cyBzdGVwcyBhbmQgdGhlIFB5dGhvbiBzaWRlIGlzIGdvaW5nCi8vIHRvIHBvbGwgZm9yIGNvbXBsZXRpb24gb2YgZWFjaCBzdGVwLgovLyBUaGlzIHVzZXMgYSBQcm9taXNlIHRvIGJsb2NrIHRoZSBweXRob24gc2lkZSBvbiBjb21wbGV0aW9uIG9mIGVhY2ggc3RlcCwKLy8gdGhlbiBwYXNzZXMgdGhlIHJlc3VsdCBvZiB0aGUgcHJldmlvdXMgc3RlcCBhcyB0aGUgaW5wdXQgdG8gdGhlIG5leHQgc3RlcC4KZnVuY3Rpb24gX3VwbG9hZEZpbGVzQ29udGludWUob3V0cHV0SWQpIHsKICBjb25zdCBvdXRwdXRFbGVtZW50ID0gZG9jdW1lbnQuZ2V0RWxlbWVudEJ5SWQob3V0cHV0SWQpOwogIGNvbnN0IHN0ZXBzID0gb3V0cHV0RWxlbWVudC5zdGVwczsKCiAgY29uc3QgbmV4dCA9IHN0ZXBzLm5leHQob3V0cHV0RWxlbWVudC5sYXN0UHJvbWlzZVZhbHVlKTsKICByZXR1cm4gUHJvbWlzZS5yZXNvbHZlKG5leHQudmFsdWUucHJvbWlzZSkudGhlbigodmFsdWUpID0+IHsKICAgIC8vIENhY2hlIHRoZSBsYXN0IHByb21pc2UgdmFsdWUgdG8gbWFrZSBpdCBhdmFpbGFibGUgdG8gdGhlIG5leHQKICAgIC8vIHN0ZXAgb2YgdGhlIGdlbmVyYXRvci4KICAgIG91dHB1dEVsZW1lbnQubGFzdFByb21pc2VWYWx1ZSA9IHZhbHVlOwogICAgcmV0dXJuIG5leHQudmFsdWUucmVzcG9uc2U7CiAgfSk7Cn0KCi8qKgogKiBHZW5lcmF0b3IgZnVuY3Rpb24gd2hpY2ggaXMgY2FsbGVkIGJldHdlZW4gZWFjaCBhc3luYyBzdGVwIG9mIHRoZSB1cGxvYWQKICogcHJvY2Vzcy4KICogQHBhcmFtIHtzdHJpbmd9IGlucHV0SWQgRWxlbWVudCBJRCBvZiB0aGUgaW5wdXQgZmlsZSBwaWNrZXIgZWxlbWVudC4KICogQHBhcmFtIHtzdHJpbmd9IG91dHB1dElkIEVsZW1lbnQgSUQgb2YgdGhlIG91dHB1dCBkaXNwbGF5LgogKiBAcmV0dXJuIHshSXRlcmFibGU8IU9iamVjdD59IEl0ZXJhYmxlIG9mIG5leHQgc3RlcHMuCiAqLwpmdW5jdGlvbiogdXBsb2FkRmlsZXNTdGVwKGlucHV0SWQsIG91dHB1dElkKSB7CiAgY29uc3QgaW5wdXRFbGVtZW50ID0gZG9jdW1lbnQuZ2V0RWxlbWVudEJ5SWQoaW5wdXRJZCk7CiAgaW5wdXRFbGVtZW50LmRpc2FibGVkID0gZmFsc2U7CgogIGNvbnN0IG91dHB1dEVsZW1lbnQgPSBkb2N1bWVudC5nZXRFbGVtZW50QnlJZChvdXRwdXRJZCk7CiAgb3V0cHV0RWxlbWVudC5pbm5lckhUTUwgPSAnJzsKCiAgY29uc3QgcGlja2VkUHJvbWlzZSA9IG5ldyBQcm9taXNlKChyZXNvbHZlKSA9PiB7CiAgICBpbnB1dEVsZW1lbnQuYWRkRXZlbnRMaXN0ZW5lcignY2hhbmdlJywgKGUpID0+IHsKICAgICAgcmVzb2x2ZShlLnRhcmdldC5maWxlcyk7CiAgICB9KTsKICB9KTsKCiAgY29uc3QgY2FuY2VsID0gZG9jdW1lbnQuY3JlYXRlRWxlbWVudCgnYnV0dG9uJyk7CiAgaW5wdXRFbGVtZW50LnBhcmVudEVsZW1lbnQuYXBwZW5kQ2hpbGQoY2FuY2VsKTsKICBjYW5jZWwudGV4dENvbnRlbnQgPSAnQ2FuY2VsIHVwbG9hZCc7CiAgY29uc3QgY2FuY2VsUHJvbWlzZSA9IG5ldyBQcm9taXNlKChyZXNvbHZlKSA9PiB7CiAgICBjYW5jZWwub25jbGljayA9ICgpID0+IHsKICAgICAgcmVzb2x2ZShudWxsKTsKICAgIH07CiAgfSk7CgogIC8vIENhbmNlbCB1cGxvYWQgaWYgdXNlciBoYXNuJ3QgcGlja2VkIGFueXRoaW5nIGluIHRpbWVvdXQuCiAgY29uc3QgdGltZW91dFByb21pc2UgPSBuZXcgUHJvbWlzZSgocmVzb2x2ZSkgPT4gewogICAgc2V0VGltZW91dCgoKSA9PiB7CiAgICAgIHJlc29sdmUobnVsbCk7CiAgICB9LCBGSUxFX0NIQU5HRV9USU1FT1VUX01TKTsKICB9KTsKCiAgLy8gV2FpdCBmb3IgdGhlIHVzZXIgdG8gcGljayB0aGUgZmlsZXMuCiAgY29uc3QgZmlsZXMgPSB5aWVsZCB7CiAgICBwcm9taXNlOiBQcm9taXNlLnJhY2UoW3BpY2tlZFByb21pc2UsIHRpbWVvdXRQcm9taXNlLCBjYW5jZWxQcm9taXNlXSksCiAgICByZXNwb25zZTogewogICAgICBhY3Rpb246ICdzdGFydGluZycsCiAgICB9CiAgfTsKCiAgaWYgKCFmaWxlcykgewogICAgcmV0dXJuIHsKICAgICAgcmVzcG9uc2U6IHsKICAgICAgICBhY3Rpb246ICdjb21wbGV0ZScsCiAgICAgIH0KICAgIH07CiAgfQoKICBjYW5jZWwucmVtb3ZlKCk7CgogIC8vIERpc2FibGUgdGhlIGlucHV0IGVsZW1lbnQgc2luY2UgZnVydGhlciBwaWNrcyBhcmUgbm90IGFsbG93ZWQuCiAgaW5wdXRFbGVtZW50LmRpc2FibGVkID0gdHJ1ZTsKCiAgZm9yIChjb25zdCBmaWxlIG9mIGZpbGVzKSB7CiAgICBjb25zdCBsaSA9IGRvY3VtZW50LmNyZWF0ZUVsZW1lbnQoJ2xpJyk7CiAgICBsaS5hcHBlbmQoc3BhbihmaWxlLm5hbWUsIHtmb250V2VpZ2h0OiAnYm9sZCd9KSk7CiAgICBsaS5hcHBlbmQoc3BhbigKICAgICAgICBgKCR7ZmlsZS50eXBlIHx8ICduL2EnfSkgLSAke2ZpbGUuc2l6ZX0gYnl0ZXMsIGAgKwogICAgICAgIGBsYXN0IG1vZGlmaWVkOiAkewogICAgICAgICAgICBmaWxlLmxhc3RNb2RpZmllZERhdGUgPyBmaWxlLmxhc3RNb2RpZmllZERhdGUudG9Mb2NhbGVEYXRlU3RyaW5nKCkgOgogICAgICAgICAgICAgICAgICAgICAgICAgICAgICAgICAgICAnbi9hJ30gLSBgKSk7CiAgICBjb25zdCBwZXJjZW50ID0gc3BhbignMCUgZG9uZScpOwogICAgbGkuYXBwZW5kQ2hpbGQocGVyY2VudCk7CgogICAgb3V0cHV0RWxlbWVudC5hcHBlbmRDaGlsZChsaSk7CgogICAgY29uc3QgZmlsZURhdGFQcm9taXNlID0gbmV3IFByb21pc2UoKHJlc29sdmUpID0+IHsKICAgICAgY29uc3QgcmVhZGVyID0gbmV3IEZpbGVSZWFkZXIoKTsKICAgICAgcmVhZGVyLm9ubG9hZCA9IChlKSA9PiB7CiAgICAgICAgcmVzb2x2ZShlLnRhcmdldC5yZXN1bHQpOwogICAgICB9OwogICAgICByZWFkZXIucmVhZEFzQXJyYXlCdWZmZXIoZmlsZSk7CiAgICB9KTsKICAgIC8vIFdhaXQgZm9yIHRoZSBkYXRhIHRvIGJlIHJlYWR5LgogICAgbGV0IGZpbGVEYXRhID0geWllbGQgewogICAgICBwcm9taXNlOiBmaWxlRGF0YVByb21pc2UsCiAgICAgIHJlc3BvbnNlOiB7CiAgICAgICAgYWN0aW9uOiAnY29udGludWUnLAogICAgICB9CiAgICB9OwoKICAgIC8vIFVzZSBhIGNodW5rZWQgc2VuZGluZyB0byBhdm9pZCBtZXNzYWdlIHNpemUgbGltaXRzLiBTZWUgYi82MjExNTY2MC4KICAgIGxldCBwb3NpdGlvbiA9IDA7CiAgICB3aGlsZSAocG9zaXRpb24gPCBmaWxlRGF0YS5ieXRlTGVuZ3RoKSB7CiAgICAgIGNvbnN0IGxlbmd0aCA9IE1hdGgubWluKGZpbGVEYXRhLmJ5dGVMZW5ndGggLSBwb3NpdGlvbiwgTUFYX1BBWUxPQURfU0laRSk7CiAgICAgIGNvbnN0IGNodW5rID0gbmV3IFVpbnQ4QXJyYXkoZmlsZURhdGEsIHBvc2l0aW9uLCBsZW5ndGgpOwogICAgICBwb3NpdGlvbiArPSBsZW5ndGg7CgogICAgICBjb25zdCBiYXNlNjQgPSBidG9hKFN0cmluZy5mcm9tQ2hhckNvZGUuYXBwbHkobnVsbCwgY2h1bmspKTsKICAgICAgeWllbGQgewogICAgICAgIHJlc3BvbnNlOiB7CiAgICAgICAgICBhY3Rpb246ICdhcHBlbmQnLAogICAgICAgICAgZmlsZTogZmlsZS5uYW1lLAogICAgICAgICAgZGF0YTogYmFzZTY0LAogICAgICAgIH0sCiAgICAgIH07CiAgICAgIHBlcmNlbnQudGV4dENvbnRlbnQgPQogICAgICAgICAgYCR7TWF0aC5yb3VuZCgocG9zaXRpb24gLyBmaWxlRGF0YS5ieXRlTGVuZ3RoKSAqIDEwMCl9JSBkb25lYDsKICAgIH0KICB9CgogIC8vIEFsbCBkb25lLgogIHlpZWxkIHsKICAgIHJlc3BvbnNlOiB7CiAgICAgIGFjdGlvbjogJ2NvbXBsZXRlJywKICAgIH0KICB9Owp9CgpzY29wZS5nb29nbGUgPSBzY29wZS5nb29nbGUgfHwge307CnNjb3BlLmdvb2dsZS5jb2xhYiA9IHNjb3BlLmdvb2dsZS5jb2xhYiB8fCB7fTsKc2NvcGUuZ29vZ2xlLmNvbGFiLl9maWxlcyA9IHsKICBfdXBsb2FkRmlsZXMsCiAgX3VwbG9hZEZpbGVzQ29udGludWUsCn07Cn0pKHNlbGYpOwo=",
              "ok": true,
              "headers": [
                [
                  "content-type",
                  "application/javascript"
                ]
              ],
              "status": 200,
              "status_text": ""
            }
          },
          "base_uri": "https://localhost:8080/",
          "height": 108
        }
      },
      "source": [
        "from google.colab import files\n",
        "uploaded = files.upload()\n"
      ],
      "execution_count": 0,
      "outputs": [
        {
          "output_type": "display_data",
          "data": {
            "text/html": [
              "\n",
              "     <input type=\"file\" id=\"files-89faa61b-1a4a-4aaa-bdd9-a45fe8dfb176\" name=\"files[]\" multiple disabled />\n",
              "     <output id=\"result-89faa61b-1a4a-4aaa-bdd9-a45fe8dfb176\">\n",
              "      Upload widget is only available when the cell has been executed in the\n",
              "      current browser session. Please rerun this cell to enable.\n",
              "      </output>\n",
              "      <script src=\"/nbextensions/google.colab/files.js\"></script> "
            ],
            "text/plain": [
              "<IPython.core.display.HTML object>"
            ]
          },
          "metadata": {
            "tags": []
          }
        },
        {
          "output_type": "stream",
          "text": [
            "Saving Employee_Demographics.csv to Employee_Demographics.csv\n",
            "Saving Employee_Salaries.csv to Employee_Salaries.csv\n"
          ],
          "name": "stdout"
        }
      ]
    },
    {
      "cell_type": "code",
      "metadata": {
        "id": "JZIJeePdYpDQ",
        "colab_type": "code",
        "colab": {}
      },
      "source": [
        "import io\n",
        "df2 = pd.read_csv(io.BytesIO(uploaded['Employee_Salaries.csv']),index_col=None)\n"
      ],
      "execution_count": 0,
      "outputs": []
    },
    {
      "cell_type": "code",
      "metadata": {
        "id": "BTX0uJtax-4l",
        "colab_type": "code",
        "colab": {}
      },
      "source": [
        "df3 = pd.read_csv(io.BytesIO(uploaded['Employee_Demographics.csv']),index_col=None)"
      ],
      "execution_count": 0,
      "outputs": []
    },
    {
      "cell_type": "code",
      "metadata": {
        "id": "fAoI2H3B5lrS",
        "colab_type": "code",
        "outputId": "db662cb6-f741-4a2d-e3cd-1742e202685d",
        "colab": {
          "base_uri": "https://localhost:8080/",
          "height": 113
        }
      },
      "source": [
        "#Renaming columns \n",
        "\n",
        "df2.rename(columns={'Initial Hire Date': 'start_year','Date in Position': 'End Year' }, inplace=True)\n",
        "\n",
        "df2.tail(1)\n"
      ],
      "execution_count": 0,
      "outputs": [
        {
          "output_type": "execute_result",
          "data": {
            "text/html": [
              "<div>\n",
              "<style scoped>\n",
              "    .dataframe tbody tr th:only-of-type {\n",
              "        vertical-align: middle;\n",
              "    }\n",
              "\n",
              "    .dataframe tbody tr th {\n",
              "        vertical-align: top;\n",
              "    }\n",
              "\n",
              "    .dataframe thead th {\n",
              "        text-align: right;\n",
              "    }\n",
              "</style>\n",
              "<table border=\"1\" class=\"dataframe\">\n",
              "  <thead>\n",
              "    <tr style=\"text-align: right;\">\n",
              "      <th></th>\n",
              "      <th>Department</th>\n",
              "      <th>Position Title</th>\n",
              "      <th>Employee Status</th>\n",
              "      <th>start_year</th>\n",
              "      <th>End Year</th>\n",
              "      <th>Fair Labor Standards Act (FLSA)</th>\n",
              "      <th>Base Salary</th>\n",
              "    </tr>\n",
              "  </thead>\n",
              "  <tbody>\n",
              "    <tr>\n",
              "      <th>5299</th>\n",
              "      <td>Zoo-Veterinary &amp; Wellness Camp</td>\n",
              "      <td>Zookeeper</td>\n",
              "      <td>Permanent Full-time</td>\n",
              "      <td>04/18/2007</td>\n",
              "      <td>01/15/2010</td>\n",
              "      <td>Nonexempt</td>\n",
              "      <td>33784.88</td>\n",
              "    </tr>\n",
              "  </tbody>\n",
              "</table>\n",
              "</div>"
            ],
            "text/plain": [
              "                        Department    ... Base Salary\n",
              "5299  Zoo-Veterinary & Wellness Camp  ...    33784.88\n",
              "\n",
              "[1 rows x 7 columns]"
            ]
          },
          "metadata": {
            "tags": []
          },
          "execution_count": 144
        }
      ]
    },
    {
      "cell_type": "code",
      "metadata": {
        "id": "oOX0Nknh9Rod",
        "colab_type": "code",
        "outputId": "722699f1-c424-409a-b741-1070c3fbcd53",
        "colab": {
          "base_uri": "https://localhost:8080/",
          "height": 285
        }
      },
      "source": [
        "#Removing White spaces from column names \n",
        "\n",
        "# df2.columns = df2.columns.str.replace(' ', '')\n",
        "df2.columns = df2.columns.str.strip().str.lower().str.replace(' ', '_').str.replace('(', '').str.replace(')', '')\n",
        "\n",
        "df2.head(5)\n"
      ],
      "execution_count": 0,
      "outputs": [
        {
          "output_type": "execute_result",
          "data": {
            "text/html": [
              "<div>\n",
              "<style scoped>\n",
              "    .dataframe tbody tr th:only-of-type {\n",
              "        vertical-align: middle;\n",
              "    }\n",
              "\n",
              "    .dataframe tbody tr th {\n",
              "        vertical-align: top;\n",
              "    }\n",
              "\n",
              "    .dataframe thead th {\n",
              "        text-align: right;\n",
              "    }\n",
              "</style>\n",
              "<table border=\"1\" class=\"dataframe\">\n",
              "  <thead>\n",
              "    <tr style=\"text-align: right;\">\n",
              "      <th></th>\n",
              "      <th>department</th>\n",
              "      <th>position_title</th>\n",
              "      <th>employee_status</th>\n",
              "      <th>start_year</th>\n",
              "      <th>end_year</th>\n",
              "      <th>fair_labor_standards_act_flsa</th>\n",
              "      <th>base_salary</th>\n",
              "    </tr>\n",
              "  </thead>\n",
              "  <tbody>\n",
              "    <tr>\n",
              "      <th>0</th>\n",
              "      <td>CF - MacArthur Memorial</td>\n",
              "      <td>Administrative Technician</td>\n",
              "      <td>Permanent Full-time</td>\n",
              "      <td>09/23/2015</td>\n",
              "      <td>03/19/2018</td>\n",
              "      <td>Nonexempt</td>\n",
              "      <td>32798.10</td>\n",
              "    </tr>\n",
              "    <tr>\n",
              "      <th>1</th>\n",
              "      <td>CF - MacArthur Memorial</td>\n",
              "      <td>Archivist</td>\n",
              "      <td>Permanent Full-time</td>\n",
              "      <td>06/01/1994</td>\n",
              "      <td>05/15/1996</td>\n",
              "      <td>Exempt</td>\n",
              "      <td>60507.96</td>\n",
              "    </tr>\n",
              "    <tr>\n",
              "      <th>2</th>\n",
              "      <td>CF - MacArthur Memorial</td>\n",
              "      <td>Curator</td>\n",
              "      <td>Permanent Full-time</td>\n",
              "      <td>11/03/2014</td>\n",
              "      <td>11/03/2014</td>\n",
              "      <td>Exempt</td>\n",
              "      <td>54111.33</td>\n",
              "    </tr>\n",
              "    <tr>\n",
              "      <th>3</th>\n",
              "      <td>CF - MacArthur Memorial</td>\n",
              "      <td>Education Manager</td>\n",
              "      <td>Permanent Full-time</td>\n",
              "      <td>10/29/2007</td>\n",
              "      <td>11/23/2009</td>\n",
              "      <td>Exempt</td>\n",
              "      <td>58367.23</td>\n",
              "    </tr>\n",
              "    <tr>\n",
              "      <th>4</th>\n",
              "      <td>CF - MacArthur Memorial</td>\n",
              "      <td>MacArthur Memorial Director</td>\n",
              "      <td>Permanent Full-time</td>\n",
              "      <td>09/16/2013</td>\n",
              "      <td>09/16/2013</td>\n",
              "      <td>Exempt</td>\n",
              "      <td>98456.41</td>\n",
              "    </tr>\n",
              "  </tbody>\n",
              "</table>\n",
              "</div>"
            ],
            "text/plain": [
              "                department  ... base_salary\n",
              "0  CF - MacArthur Memorial  ...    32798.10\n",
              "1  CF - MacArthur Memorial  ...    60507.96\n",
              "2  CF - MacArthur Memorial  ...    54111.33\n",
              "3  CF - MacArthur Memorial  ...    58367.23\n",
              "4  CF - MacArthur Memorial  ...    98456.41\n",
              "\n",
              "[5 rows x 7 columns]"
            ]
          },
          "metadata": {
            "tags": []
          },
          "execution_count": 145
        }
      ]
    },
    {
      "cell_type": "code",
      "metadata": {
        "id": "CZks2S3JCNU4",
        "colab_type": "code",
        "colab": {}
      },
      "source": [
        "#Removing White spaces from column names \n",
        "# df3.columns = df3.columns.str.replace('_ ', ' ')\n",
        "df3.columns = df3.columns.str.strip().str.lower().str.replace(' ', '_').str.replace('(', '').str.replace(')', '')\n"
      ],
      "execution_count": 0,
      "outputs": []
    },
    {
      "cell_type": "code",
      "metadata": {
        "id": "FwcnC-aOeONg",
        "colab_type": "code",
        "outputId": "1a58a796-740b-4f8a-f838-b418e058cc5e",
        "colab": {
          "base_uri": "https://localhost:8080/",
          "height": 78
        }
      },
      "source": [
        "\n",
        "df3.head(1)"
      ],
      "execution_count": 0,
      "outputs": [
        {
          "output_type": "execute_result",
          "data": {
            "text/html": [
              "<div>\n",
              "<style scoped>\n",
              "    .dataframe tbody tr th:only-of-type {\n",
              "        vertical-align: middle;\n",
              "    }\n",
              "\n",
              "    .dataframe tbody tr th {\n",
              "        vertical-align: top;\n",
              "    }\n",
              "\n",
              "    .dataframe thead th {\n",
              "        text-align: right;\n",
              "    }\n",
              "</style>\n",
              "<table border=\"1\" class=\"dataframe\">\n",
              "  <thead>\n",
              "    <tr style=\"text-align: right;\">\n",
              "      <th></th>\n",
              "      <th>department</th>\n",
              "      <th>position_title</th>\n",
              "      <th>city</th>\n",
              "      <th>gender</th>\n",
              "      <th>ethnicity</th>\n",
              "      <th>education</th>\n",
              "      <th>military</th>\n",
              "      <th>start_year</th>\n",
              "      <th>birth_year</th>\n",
              "    </tr>\n",
              "  </thead>\n",
              "  <tbody>\n",
              "    <tr>\n",
              "      <th>0</th>\n",
              "      <td>CF - MacArthur Memorial</td>\n",
              "      <td>Museum Attendant</td>\n",
              "      <td>Virginia Beach</td>\n",
              "      <td>Female</td>\n",
              "      <td>NS</td>\n",
              "      <td>A-Not Indicated</td>\n",
              "      <td>Not indicated</td>\n",
              "      <td>2007</td>\n",
              "      <td>1968</td>\n",
              "    </tr>\n",
              "  </tbody>\n",
              "</table>\n",
              "</div>"
            ],
            "text/plain": [
              "                department    position_title  ... start_year birth_year\n",
              "0  CF - MacArthur Memorial  Museum Attendant  ...       2007       1968\n",
              "\n",
              "[1 rows x 9 columns]"
            ]
          },
          "metadata": {
            "tags": []
          },
          "execution_count": 147
        }
      ]
    },
    {
      "cell_type": "code",
      "metadata": {
        "id": "0hnGZmRclgwN",
        "colab_type": "code",
        "colab": {}
      },
      "source": [
        "import datetime\n",
        "# convert date column from obj to actual datetime  \n",
        "\n",
        "df2['start_year'] = pd.to_datetime(df2['start_year']) \n",
        "df2['end_year'] = pd.to_datetime(df2['end_year'])\n",
        "# df3['StartYear'] = pd.to_datetime(df3['StartYear']) \n",
        "\n",
        "\n",
        "#formatting the year column\n",
        "df2['start_year'] = df2['start_year'].dt.year\n",
        "df2['end_year'] = df2['end_year'].dt.year\n",
        "\n",
        "# df3['StartYear'] = df3['StartYear'].dt.year\n",
        "\n",
        "# df2 = df2.sort_values(['StartYear'], ascending=[True])\n",
        "# df3 = df3.sort_values(['StartYear'], ascending=[True])\n",
        "\n",
        "# df2.tail(5)\n"
      ],
      "execution_count": 0,
      "outputs": []
    },
    {
      "cell_type": "code",
      "metadata": {
        "id": "5uiHSGMOyOIx",
        "colab_type": "code",
        "outputId": "bd1691ad-801e-403c-c05c-3803cc5d1c6d",
        "colab": {
          "base_uri": "https://localhost:8080/",
          "height": 143
        }
      },
      "source": [
        "df2.head(2)"
      ],
      "execution_count": 0,
      "outputs": [
        {
          "output_type": "execute_result",
          "data": {
            "text/html": [
              "<div>\n",
              "<style scoped>\n",
              "    .dataframe tbody tr th:only-of-type {\n",
              "        vertical-align: middle;\n",
              "    }\n",
              "\n",
              "    .dataframe tbody tr th {\n",
              "        vertical-align: top;\n",
              "    }\n",
              "\n",
              "    .dataframe thead th {\n",
              "        text-align: right;\n",
              "    }\n",
              "</style>\n",
              "<table border=\"1\" class=\"dataframe\">\n",
              "  <thead>\n",
              "    <tr style=\"text-align: right;\">\n",
              "      <th></th>\n",
              "      <th>department</th>\n",
              "      <th>position_title</th>\n",
              "      <th>employee_status</th>\n",
              "      <th>start_year</th>\n",
              "      <th>end_year</th>\n",
              "      <th>fair_labor_standards_act_flsa</th>\n",
              "      <th>base_salary</th>\n",
              "    </tr>\n",
              "  </thead>\n",
              "  <tbody>\n",
              "    <tr>\n",
              "      <th>0</th>\n",
              "      <td>CF - MacArthur Memorial</td>\n",
              "      <td>Administrative Technician</td>\n",
              "      <td>Permanent Full-time</td>\n",
              "      <td>2015</td>\n",
              "      <td>2018</td>\n",
              "      <td>Nonexempt</td>\n",
              "      <td>32798.10</td>\n",
              "    </tr>\n",
              "    <tr>\n",
              "      <th>1</th>\n",
              "      <td>CF - MacArthur Memorial</td>\n",
              "      <td>Archivist</td>\n",
              "      <td>Permanent Full-time</td>\n",
              "      <td>1994</td>\n",
              "      <td>1996</td>\n",
              "      <td>Exempt</td>\n",
              "      <td>60507.96</td>\n",
              "    </tr>\n",
              "  </tbody>\n",
              "</table>\n",
              "</div>"
            ],
            "text/plain": [
              "                department  ... base_salary\n",
              "0  CF - MacArthur Memorial  ...    32798.10\n",
              "1  CF - MacArthur Memorial  ...    60507.96\n",
              "\n",
              "[2 rows x 7 columns]"
            ]
          },
          "metadata": {
            "tags": []
          },
          "execution_count": 149
        }
      ]
    },
    {
      "cell_type": "markdown",
      "metadata": {
        "id": "BkS1pbld6rKX",
        "colab_type": "text"
      },
      "source": [
        "Merging both dataframes "
      ]
    },
    {
      "cell_type": "code",
      "metadata": {
        "id": "MW2oVZfbmWBC",
        "colab_type": "code",
        "outputId": "8eb521bb-b300-4e54-bc3c-cc0d21847ea3",
        "colab": {
          "base_uri": "https://localhost:8080/",
          "height": 150
        }
      },
      "source": [
        "\n",
        "import pandas as pd\n",
        "# df4Merge = pd.merge(df2, df3,on='StartYear')\n",
        "df4Merge  = df2.merge(df3, on=['start_year','position_title','department'])\n",
        "df4Merge.head(1)"
      ],
      "execution_count": 0,
      "outputs": [
        {
          "output_type": "execute_result",
          "data": {
            "text/html": [
              "<div>\n",
              "<style scoped>\n",
              "    .dataframe tbody tr th:only-of-type {\n",
              "        vertical-align: middle;\n",
              "    }\n",
              "\n",
              "    .dataframe tbody tr th {\n",
              "        vertical-align: top;\n",
              "    }\n",
              "\n",
              "    .dataframe thead th {\n",
              "        text-align: right;\n",
              "    }\n",
              "</style>\n",
              "<table border=\"1\" class=\"dataframe\">\n",
              "  <thead>\n",
              "    <tr style=\"text-align: right;\">\n",
              "      <th></th>\n",
              "      <th>department</th>\n",
              "      <th>position_title</th>\n",
              "      <th>employee_status</th>\n",
              "      <th>start_year</th>\n",
              "      <th>end_year</th>\n",
              "      <th>fair_labor_standards_act_flsa</th>\n",
              "      <th>base_salary</th>\n",
              "      <th>city</th>\n",
              "      <th>gender</th>\n",
              "      <th>ethnicity</th>\n",
              "      <th>education</th>\n",
              "      <th>military</th>\n",
              "      <th>birth_year</th>\n",
              "    </tr>\n",
              "  </thead>\n",
              "  <tbody>\n",
              "    <tr>\n",
              "      <th>0</th>\n",
              "      <td>CF - MacArthur Memorial</td>\n",
              "      <td>Administrative Technician</td>\n",
              "      <td>Permanent Full-time</td>\n",
              "      <td>2015</td>\n",
              "      <td>2018</td>\n",
              "      <td>Nonexempt</td>\n",
              "      <td>32798.1</td>\n",
              "      <td>Norfolk</td>\n",
              "      <td>Female</td>\n",
              "      <td>Black</td>\n",
              "      <td>G-Bachelor's Level Degree</td>\n",
              "      <td>No Military Service</td>\n",
              "      <td>1976</td>\n",
              "    </tr>\n",
              "  </tbody>\n",
              "</table>\n",
              "</div>"
            ],
            "text/plain": [
              "                department  ... birth_year\n",
              "0  CF - MacArthur Memorial  ...       1976\n",
              "\n",
              "[1 rows x 13 columns]"
            ]
          },
          "metadata": {
            "tags": []
          },
          "execution_count": 150
        }
      ]
    },
    {
      "cell_type": "code",
      "metadata": {
        "id": "iQfb-4H278tC",
        "colab_type": "code",
        "colab": {}
      },
      "source": [
        ""
      ],
      "execution_count": 0,
      "outputs": []
    },
    {
      "cell_type": "markdown",
      "metadata": {
        "id": "eQA4nYac7Dcx",
        "colab_type": "text"
      },
      "source": [
        "**Dropping the non-Important columns in the Dataset**"
      ]
    },
    {
      "cell_type": "code",
      "metadata": {
        "id": "xv7unTMy72al",
        "colab_type": "code",
        "outputId": "e56b811c-3768-4e97-8cdb-e8a4b19d4685",
        "colab": {
          "base_uri": "https://localhost:8080/",
          "height": 150
        }
      },
      "source": [
        "\n",
        "#dropping the unnecessary columns\n",
        "df4MergeDrop =  df4Merge.drop(['fair_labor_standards_act_flsa','military'], axis=1)\n",
        "# df4MergeDrop.reset_index(inplace=True)\n",
        "df4MergeDrop.head(1)"
      ],
      "execution_count": 0,
      "outputs": [
        {
          "output_type": "execute_result",
          "data": {
            "text/html": [
              "<div>\n",
              "<style scoped>\n",
              "    .dataframe tbody tr th:only-of-type {\n",
              "        vertical-align: middle;\n",
              "    }\n",
              "\n",
              "    .dataframe tbody tr th {\n",
              "        vertical-align: top;\n",
              "    }\n",
              "\n",
              "    .dataframe thead th {\n",
              "        text-align: right;\n",
              "    }\n",
              "</style>\n",
              "<table border=\"1\" class=\"dataframe\">\n",
              "  <thead>\n",
              "    <tr style=\"text-align: right;\">\n",
              "      <th></th>\n",
              "      <th>department</th>\n",
              "      <th>position_title</th>\n",
              "      <th>employee_status</th>\n",
              "      <th>start_year</th>\n",
              "      <th>end_year</th>\n",
              "      <th>base_salary</th>\n",
              "      <th>city</th>\n",
              "      <th>gender</th>\n",
              "      <th>ethnicity</th>\n",
              "      <th>education</th>\n",
              "      <th>birth_year</th>\n",
              "    </tr>\n",
              "  </thead>\n",
              "  <tbody>\n",
              "    <tr>\n",
              "      <th>0</th>\n",
              "      <td>CF - MacArthur Memorial</td>\n",
              "      <td>Administrative Technician</td>\n",
              "      <td>Permanent Full-time</td>\n",
              "      <td>2015</td>\n",
              "      <td>2018</td>\n",
              "      <td>32798.1</td>\n",
              "      <td>Norfolk</td>\n",
              "      <td>Female</td>\n",
              "      <td>Black</td>\n",
              "      <td>G-Bachelor's Level Degree</td>\n",
              "      <td>1976</td>\n",
              "    </tr>\n",
              "  </tbody>\n",
              "</table>\n",
              "</div>"
            ],
            "text/plain": [
              "                department  ... birth_year\n",
              "0  CF - MacArthur Memorial  ...       1976\n",
              "\n",
              "[1 rows x 11 columns]"
            ]
          },
          "metadata": {
            "tags": []
          },
          "execution_count": 151
        }
      ]
    },
    {
      "cell_type": "code",
      "metadata": {
        "id": "LMOOSerx75Re",
        "colab_type": "code",
        "colab": {}
      },
      "source": [
        ""
      ],
      "execution_count": 0,
      "outputs": []
    },
    {
      "cell_type": "markdown",
      "metadata": {
        "id": "XvJ4cpbq7ZxI",
        "colab_type": "text"
      },
      "source": [
        "**Showing the number of rows in each column which contains null values**"
      ]
    },
    {
      "cell_type": "code",
      "metadata": {
        "id": "vmkCq13CVwKu",
        "colab_type": "code",
        "outputId": "0d05bda5-67e8-4ca7-ea66-0cee4cbfb077",
        "colab": {
          "base_uri": "https://localhost:8080/",
          "height": 225
        }
      },
      "source": [
        "\n",
        "\n",
        "df4MergeDrop.isnull().sum()"
      ],
      "execution_count": 0,
      "outputs": [
        {
          "output_type": "execute_result",
          "data": {
            "text/plain": [
              "department          0\n",
              "position_title      0\n",
              "employee_status     0\n",
              "start_year          0\n",
              "end_year            0\n",
              "base_salary         0\n",
              "city               76\n",
              "gender              0\n",
              "ethnicity           0\n",
              "education           0\n",
              "birth_year          0\n",
              "dtype: int64"
            ]
          },
          "metadata": {
            "tags": []
          },
          "execution_count": 152
        }
      ]
    },
    {
      "cell_type": "code",
      "metadata": {
        "id": "8eeHw36hKDVd",
        "colab_type": "code",
        "colab": {}
      },
      "source": [
        ""
      ],
      "execution_count": 0,
      "outputs": []
    },
    {
      "cell_type": "markdown",
      "metadata": {
        "id": "pXVtSLpb7rV4",
        "colab_type": "text"
      },
      "source": [
        "**Converting hourly pay found in the dataset to yearly salary**"
      ]
    },
    {
      "cell_type": "code",
      "metadata": {
        "id": "TJn08c5iUcL9",
        "colab_type": "code",
        "colab": {}
      },
      "source": [
        "\n",
        "\n",
        "df4MergeDrop.loc[(df4MergeDrop.base_salary == 11.55),'base_salary']=24024\n",
        "\n",
        "df4MergeDrop.loc[(df4MergeDrop.base_salary == 11.68),'base_salary']=24294\n",
        "df4MergeDrop.loc[(df4MergeDrop.base_salary == 10.21),'base_salary']=22069\n",
        "df4MergeDrop.loc[(df4MergeDrop.base_salary == 14.75),'base_salary']=30680\n",
        "df4MergeDrop.loc[(df4MergeDrop.base_salary == 23.16),'base_salary']=48173\n",
        "df4MergeDrop.loc[(df4MergeDrop.base_salary == 12.99),'base_salary']=27019\n",
        "df4MergeDrop.loc[(df4MergeDrop.base_salary == 14.33),'base_salary']=29806\n",
        "df4MergeDrop.loc[(df4MergeDrop.base_salary == 11.22),'base_salary']=23338\n",
        "df4MergeDrop.loc[(df4MergeDrop.base_salary == 19.87),'base_salary']=41330\n",
        "df4MergeDrop.loc[(df4MergeDrop.base_salary == 18.99),'base_salary']=39499\n",
        "df4MergeDrop.loc[(df4MergeDrop.base_salary == 21.61),'base_salary']=44949\n",
        "df4MergeDrop.loc[(df4MergeDrop.base_salary == 25.34),'base_salary']=52707\n",
        "df4MergeDrop.loc[(df4MergeDrop.base_salary == 16.56),'base_salary']=34445\n",
        "df4MergeDrop.loc[(df4MergeDrop.base_salary == 14.73),'base_salary']=30638\n",
        "df4MergeDrop.loc[(df4MergeDrop.base_salary == 18.83),'base_salary']=39166\n",
        "df4MergeDrop.loc[(df4MergeDrop.base_salary == 19.99),'base_salary']=41579\n",
        "df4MergeDrop.loc[(df4MergeDrop.base_salary == 15.91),'base_salary']=33093\n",
        "df4MergeDrop.loc[(df4MergeDrop.base_salary == 18.46),'base_salary']=38397\n",
        "df4MergeDrop.loc[(df4MergeDrop.base_salary == 17.55),'base_salary']=36504\n",
        "df4MergeDrop.loc[(df4MergeDrop.base_salary == 16.88),'base_salary']=35110\n",
        "df4MergeDrop.loc[(df4MergeDrop.base_salary == 17.23),'base_salary']=35838\n",
        "df4MergeDrop.loc[(df4MergeDrop.base_salary == 17.58),'base_salary']=36566\n",
        "df4MergeDrop.loc[(df4MergeDrop.base_salary == 17.94),'base_salary']=37315\n",
        "df4MergeDrop.loc[(df4MergeDrop.base_salary == 18.68),'base_salary']=38854\n",
        "df4MergeDrop.loc[(df4MergeDrop.base_salary == 18.74),'base_salary']=38979\n",
        "df4MergeDrop.loc[(df4MergeDrop.base_salary == 20.83),'base_salary']=43326\n",
        "df4MergeDrop.loc[(df4MergeDrop.base_salary == 16.17),'base_salary']=33634\n",
        "df4MergeDrop.loc[(df4MergeDrop.base_salary == 7.55),'base_salary']=15704\n",
        "df4MergeDrop.loc[(df4MergeDrop.base_salary == 7.86),'base_salary']=16349\n",
        "df4MergeDrop.loc[(df4MergeDrop.base_salary == 12.11),'base_salary']=25189\n",
        "df4MergeDrop.loc[(df4MergeDrop.base_salary == 18.00),'base_salary']=37440\n",
        "df4MergeDrop.loc[(df4MergeDrop.base_salary == 20.22),'base_salary']=42058\n",
        "df4MergeDrop.loc[(df4MergeDrop.base_salary == 16.00),'base_salary']=33280\n",
        "df4MergeDrop.loc[(df4MergeDrop.base_salary == 19.23),'base_salary']=39998\n",
        "df4MergeDrop.loc[(df4MergeDrop.base_salary == 27.39),'base_salary']=56971\n",
        "df4MergeDrop.loc[(df4MergeDrop.base_salary == 28.18),'base_salary']=58614\n",
        "df4MergeDrop.loc[(df4MergeDrop.base_salary == 18.20),'base_salary']=37856\n",
        "df4MergeDrop.loc[(df4MergeDrop.base_salary == 18.56),'base_salary']=58614\n",
        "df4MergeDrop.loc[(df4MergeDrop.base_salary == 18.94),'base_salary']=39395\n",
        "df4MergeDrop.loc[(df4MergeDrop.base_salary == 20.02),'base_salary']=39541\n",
        "df4MergeDrop.loc[(df4MergeDrop.base_salary == 24.70),'base_salary']=39541\n",
        "df4MergeDrop.loc[(df4MergeDrop.base_salary == 19.01),'base_salary']=39541\n",
        "df4MergeDrop.loc[(df4MergeDrop.base_salary == 19.10),'base_salary']=39541\n",
        "df4MergeDrop.loc[(df4MergeDrop.base_salary == 20.50),'base_salary']=39541\n",
        "df4MergeDrop.loc[(df4MergeDrop.base_salary == 24.70),'base_salary']=51376\n",
        "df4MergeDrop.loc[(df4MergeDrop.base_salary == 17.52),'base_salary']=36026\n",
        "df4MergeDrop.loc[(df4MergeDrop.base_salary == 17.70),'base_salary']=36816\n",
        "df4MergeDrop.loc[(df4MergeDrop.base_salary == 27.16),'base_salary']=56493\n",
        "df4MergeDrop.loc[(df4MergeDrop.base_salary == 17.88),'base_salary']=37190\n",
        "df4MergeDrop.loc[(df4MergeDrop.base_salary == 18.30),'base_salary']=38064\n",
        "df4MergeDrop.loc[(df4MergeDrop.base_salary == 19.41),'base_salary']=40373\n",
        "df4MergeDrop.loc[(df4MergeDrop.base_salary == 19.54),'base_salary']=40643\n",
        "df4MergeDrop.loc[(df4MergeDrop.base_salary == 19.34),'base_salary']=40227\n",
        "df4MergeDrop.loc[(df4MergeDrop.base_salary == 18.18),'base_salary']=37814\n",
        "df4MergeDrop.loc[(df4MergeDrop.base_salary == 19.30),'base_salary']=40144\n",
        "df4MergeDrop.loc[(df4MergeDrop.base_salary == 18.50),'base_salary']=38480\n",
        "df4MergeDrop.loc[(df4MergeDrop.base_salary == 18.62),'base_salary']=38730\n",
        "df4MergeDrop.loc[(df4MergeDrop.base_salary == 18.54),'base_salary']=38563\n",
        "df4MergeDrop.loc[(df4MergeDrop.base_salary == 18.60),'base_salary']=38688\n",
        "df4MergeDrop.loc[(df4MergeDrop.base_salary == 17.73),'base_salary']=36878\n",
        "df4MergeDrop.loc[(df4MergeDrop.base_salary == 13.21),'base_salary']=27477\n",
        "df4MergeDrop.loc[(df4MergeDrop.base_salary == 13.61),'base_salary']=28309\n",
        "df4MergeDrop.loc[(df4MergeDrop.base_salary == 16.32),'base_salary']=33946\n",
        "df4MergeDrop.loc[(df4MergeDrop.base_salary == 16.76),'base_salary']=34861\n",
        "df4MergeDrop.loc[(df4MergeDrop.base_salary == 16.12),'base_salary']=33530\n",
        "df4MergeDrop.loc[(df4MergeDrop.base_salary == 16.54),'base_salary']=34403\n",
        "df4MergeDrop.loc[(df4MergeDrop.base_salary == 20.01),'base_salary']=41621\n",
        "df4MergeDrop.loc[(df4MergeDrop.base_salary == 20.51),'base_salary']=42661\n",
        "df4MergeDrop.loc[(df4MergeDrop.base_salary == 21.53),'base_salary']=44782\n",
        "df4MergeDrop.loc[(df4MergeDrop.base_salary == 24.87),'base_salary']=51730\n",
        "df4MergeDrop.loc[(df4MergeDrop.base_salary == 15.04),'base_salary']=31283\n",
        "df4MergeDrop.loc[(df4MergeDrop.base_salary == 17.49),'base_salary']=36379\n",
        "df4MergeDrop.loc[(df4MergeDrop.base_salary == 13.72),'base_salary']=28538\n",
        "df4MergeDrop.loc[(df4MergeDrop.base_salary == 17.32),'base_salary']=36026 \n",
        "df4MergeDrop.loc[(df4MergeDrop.base_salary == 19.40),'base_salary']=40352\n",
        "df4MergeDrop.loc[(df4MergeDrop.base_salary == 19.38),'base_salary']=40310\n",
        "df4MergeDrop.loc[(df4MergeDrop.base_salary == 16.83),'base_salary']=35006\n",
        "df4MergeDrop.loc[(df4MergeDrop.base_salary == 16.12),'base_salary']=33530\n",
        "df4MergeDrop.loc[(df4MergeDrop.base_salary == 23.72),'base_salary']=49338\n",
        "df4MergeDrop.loc[(df4MergeDrop.base_salary == 9.30),'base_salary']=19344\n",
        "df4MergeDrop.loc[(df4MergeDrop.base_salary == 23.72),'base_salary']=49338\n",
        "df4MergeDrop.loc[(df4MergeDrop.base_salary == 15.87),'base_salary']=33010\n",
        "df4MergeDrop.loc[(df4MergeDrop.base_salary == 17.16),'base_salary']=35693\n",
        "\n",
        "df4MergeDrop.loc[(df4MergeDrop.base_salary == 17.79),'base_salary']=37003\n",
        "df4MergeDrop.loc[(df4MergeDrop.base_salary == 17.16),'base_salary']=35693\n",
        "df4MergeDrop.loc[(df4MergeDrop.base_salary == 23.69),'base_salary']=49275\n",
        "df4MergeDrop.loc[(df4MergeDrop.base_salary == 22.63),'base_salary']=42910\n",
        "df4MergeDrop.loc[(df4MergeDrop.base_salary == 20.80),'base_salary']=43264\n",
        "df4MergeDrop.loc[(df4MergeDrop.base_salary == 23.75),'base_salary']=49400\n",
        "df4MergeDrop.loc[(df4MergeDrop.base_salary == 15.28),'base_salary']=31782\n",
        "df4MergeDrop.loc[(df4MergeDrop.base_salary == 18.01),'base_salary']=37461\n",
        "df4MergeDrop.loc[(df4MergeDrop.base_salary == 23.72),'base_salary']=49338\n",
        "df4MergeDrop.loc[(df4MergeDrop.base_salary == 25.21),'base_salary']=52437\n",
        "df4MergeDrop.loc[(df4MergeDrop.base_salary == 15.30),'base_salary']=49338\n",
        "\n",
        "\n",
        "df4MergeDrop.loc[(df4MergeDrop.base_salary == 11.44),'base_salary']=23795\n",
        "df4MergeDrop.loc[(df4MergeDrop.base_salary == 21.65),'base_salary']=45032\n",
        "df4MergeDrop.loc[(df4MergeDrop.base_salary == 22.20),'base_salary']=46176\n",
        "df4MergeDrop.loc[(df4MergeDrop.base_salary == 21.85),'base_salary']=45448\n",
        "df4MergeDrop.loc[(df4MergeDrop.base_salary == 8.73),'base_salary']=18158\n",
        "df4MergeDrop.loc[(df4MergeDrop.base_salary == 18.75),'base_salary']=39000\n",
        "df4MergeDrop.loc[(df4MergeDrop.base_salary == 14.68),'base_salary']=30534\n",
        "df4MergeDrop.loc[(df4MergeDrop.base_salary == 19.76),'base_salary']=41101\n",
        "df4MergeDrop.loc[(df4MergeDrop.base_salary == 9.00),'base_salary']=18720\n",
        "df4MergeDrop.loc[(df4MergeDrop.base_salary == 26.18),'base_salary']=54454\n",
        "df4MergeDrop.loc[(df4MergeDrop.base_salary == 11.00),'base_salary']=22880\n",
        "df4MergeDrop.loc[(df4MergeDrop.base_salary == 13.00),'base_salary']=27040\n",
        "df4MergeDrop.loc[(df4MergeDrop.base_salary == 16.57),'base_salary']=34466\n",
        "df4MergeDrop.loc[(df4MergeDrop.base_salary == 19.12),'base_salary']=39770\n",
        "df4MergeDrop.loc[(df4MergeDrop.base_salary == 20.00),'base_salary']=41600\n",
        "df4MergeDrop.loc[(df4MergeDrop.base_salary == 21.28),'base_salary']=44262\n",
        "df4MergeDrop.loc[(df4MergeDrop.base_salary == 22.00),'base_salary']=45760\n",
        "df4MergeDrop.loc[(df4MergeDrop.base_salary == 21.23),'base_salary']=44158\n",
        "df4MergeDrop.loc[(df4MergeDrop.base_salary == 17.13),'base_salary']=35630\n",
        "df4MergeDrop.loc[(df4MergeDrop.base_salary == 24.40),'base_salary']=50752\n",
        "df4MergeDrop.loc[(df4MergeDrop.base_salary == 15.60),'base_salary']=32448\n",
        "df4MergeDrop.loc[(df4MergeDrop.base_salary == 17.74),'base_salary']=36899\n",
        "\n",
        "df4MergeDrop.loc[(df4MergeDrop.base_salary == 21.08),'base_salary']=43846\n",
        "df4MergeDrop.loc[(df4MergeDrop.base_salary == 19.12),'base_salary']=39770\n",
        "df4MergeDrop.loc[(df4MergeDrop.base_salary == 40.76),'base_salary']=84781\n",
        "df4MergeDrop.loc[(df4MergeDrop.base_salary == 23.15),'base_salary']=48152\n",
        "df4MergeDrop.loc[(df4MergeDrop.base_salary == 26.54),'base_salary']=55203\n",
        "df4MergeDrop.loc[(df4MergeDrop.base_salary == 19.86),'base_salary']=41309\n",
        "\n",
        "df4MergeDrop.loc[(df4MergeDrop.base_salary == 39.78),'base_salary']=82742\n",
        "df4MergeDrop.loc[(df4MergeDrop.base_salary == 21.56),'base_salary']=44845\n",
        "df4MergeDrop.loc[(df4MergeDrop.base_salary == 21.55),'base_salary']=44824\n",
        "df4MergeDrop.loc[(df4MergeDrop.base_salary == 20.54),'base_salary']=42723\n",
        "df4MergeDrop.loc[(df4MergeDrop.base_salary == 20.66),'base_salary']=42973\n",
        "df4MergeDrop.loc[(df4MergeDrop.base_salary == 21.16),'base_salary']=44013\n",
        "df4MergeDrop.loc[(df4MergeDrop.base_salary == 21.46),'base_salary']=44637\n",
        "\n",
        "df4MergeDrop.loc[(df4MergeDrop.base_salary == 21.49),'base_salary']=44699\n",
        "df4MergeDrop.loc[(df4MergeDrop.base_salary == 21.20),'base_salary']=44096\n",
        "df4MergeDrop.loc[(df4MergeDrop.base_salary == 22.30),'base_salary']=46384\n",
        "df4MergeDrop.loc[(df4MergeDrop.base_salary == 22.48),'base_salary']=46758\n",
        "df4MergeDrop.loc[(df4MergeDrop.base_salary == 26.01),'base_salary']=54101\n",
        "\n",
        "df4MergeDrop.loc[(df4MergeDrop.base_salary == 21.16),'base_salary']=44013\n",
        "df4MergeDrop.loc[(df4MergeDrop.base_salary == 25.76),'base_salary']=53581\n",
        "df4MergeDrop.loc[(df4MergeDrop.base_salary == 30.05),'base_salary']=62504\n",
        "df4MergeDrop.loc[(df4MergeDrop.base_salary == 30.63),'base_salary']=63710\n",
        "df4MergeDrop.loc[(df4MergeDrop.base_salary == 30.65),'base_salary']=63752\n",
        "\n",
        "df4MergeDrop.loc[(df4MergeDrop.base_salary == 36.21),'base_salary']=75317\n",
        "df4MergeDrop.loc[(df4MergeDrop.base_salary == 32.13),'base_salary']=66830\n",
        "df4MergeDrop.loc[(df4MergeDrop.base_salary == 20.74),'base_salary']=43139\n",
        "df4MergeDrop.loc[(df4MergeDrop.base_salary == 22.02),'base_salary']=45802\n",
        "df4MergeDrop.loc[(df4MergeDrop.base_salary == 22.09),'base_salary']=45947\n",
        "\n",
        "df4MergeDrop.loc[(df4MergeDrop.base_salary == 25.17),'base_salary']=52354\n",
        "df4MergeDrop.loc[(df4MergeDrop.base_salary == 25.60),'base_salary']=53248\n",
        "df4MergeDrop.loc[(df4MergeDrop.base_salary == 25.40),'base_salary']=52832\n",
        "df4MergeDrop.loc[(df4MergeDrop.base_salary == 25.84),'base_salary']=53747\n",
        "df4MergeDrop.loc[(df4MergeDrop.base_salary == 25.60),'base_salary']=53248\n",
        "df4MergeDrop.loc[(df4MergeDrop.base_salary == 29.57),'base_salary']=61506\n",
        "df4MergeDrop.loc[(df4MergeDrop.base_salary == 22.06),'base_salary']=45885\n",
        "\n",
        "df4MergeDrop.loc[(df4MergeDrop.base_salary == 18.47),'base_salary']=38418\n",
        "df4MergeDrop.loc[(df4MergeDrop.base_salary == 23.53),'base_salary']=46862\n",
        "df4MergeDrop.loc[(df4MergeDrop.base_salary == 25.39),'base_salary']=52811\n",
        "df4MergeDrop.loc[(df4MergeDrop.base_salary == 23.76),'base_salary']=49421\n",
        "df4MergeDrop.loc[(df4MergeDrop.base_salary == 19.13),'base_salary']=39790\n",
        "df4MergeDrop.loc[(df4MergeDrop.base_salary == 19.92),'base_salary']=41434\n",
        "df4MergeDrop.loc[(df4MergeDrop.base_salary == 22.75),'base_salary']=47320\n",
        "df4MergeDrop.loc[(df4MergeDrop.base_salary == 18.47),'base_salary']=38418\n",
        "\n",
        "\n",
        "\n",
        "\n",
        "df4MergeDrop.loc[(df4MergeDrop.base_salary == 20.06),'base_salary']=41725\n",
        "df4MergeDrop.loc[(df4MergeDrop.base_salary == 20.89),'base_salary']=43451\n",
        "df4MergeDrop.loc[(df4MergeDrop.base_salary == 21.31),'base_salary']=44325\n",
        "df4MergeDrop.loc[(df4MergeDrop.base_salary == 14.99),'base_salary']=31179\n",
        "df4MergeDrop.loc[(df4MergeDrop.base_salary == 13.33),'base_salary']=27726\n",
        "df4MergeDrop.loc[(df4MergeDrop.base_salary == 16.96),'base_salary']=35277\n",
        "\n",
        "df4MergeDrop.loc[(df4MergeDrop.base_salary == 22.87),'base_salary']=47570\n",
        "df4MergeDrop.loc[(df4MergeDrop.base_salary == 24.11),'base_salary']=50149\n",
        "df4MergeDrop.loc[(df4MergeDrop.base_salary == 20.06),'base_salary']=41725\n",
        "df4MergeDrop.loc[(df4MergeDrop.base_salary == 19.90),'base_salary']=41392\n",
        "df4MergeDrop.loc[(df4MergeDrop.base_salary == 22.93),'base_salary']=47694\n",
        "df4MergeDrop.loc[(df4MergeDrop.base_salary == 18.84),'base_salary']=39187\n",
        "df4MergeDrop.loc[(df4MergeDrop.base_salary == 18.79),'base_salary']=39083\n",
        "df4MergeDrop.loc[(df4MergeDrop.base_salary == 19.22),'base_salary']=39978\n",
        "\n",
        "df4MergeDrop.loc[(df4MergeDrop.base_salary == 7.70),'base_salary']=16016\n",
        "df4MergeDrop.loc[(df4MergeDrop.base_salary == 13.19),'base_salary']=27435\n",
        "\n",
        "df4MergeDrop.loc[(df4MergeDrop.base_salary == 13.45),'base_salary']=27976\n",
        "df4MergeDrop.loc[(df4MergeDrop.base_salary == 11.37),'base_salary']=23650\n",
        "df4MergeDrop.loc[(df4MergeDrop.base_salary == 11.78),'base_salary']=24502\n",
        "df4MergeDrop.loc[(df4MergeDrop.base_salary == 11.76),'base_salary']=24461\n",
        "df4MergeDrop.loc[(df4MergeDrop.base_salary == 12.53),'base_salary']=26062\n",
        "df4MergeDrop.loc[(df4MergeDrop.base_salary == 12.26),'base_salary']=25501\n",
        "df4MergeDrop.loc[(df4MergeDrop.base_salary == 11.45),'base_salary']=23816\n",
        "df4MergeDrop.loc[(df4MergeDrop.base_salary == 9.94),'base_salary']=20675\n",
        "df4MergeDrop.loc[(df4MergeDrop.base_salary == 12.53),'base_salary']=26062\n",
        "df4MergeDrop.loc[(df4MergeDrop.base_salary == 24.31),'base_salary']=50565\n",
        "df4MergeDrop.loc[(df4MergeDrop.base_salary == 12.53),'base_salary']=26062\n",
        "df4MergeDrop.loc[(df4MergeDrop.base_salary == 25.29),'base_salary']=52.603\n",
        "df4MergeDrop.loc[(df4MergeDrop.base_salary == 19.05),'base_salary']=39624\n",
        "df4MergeDrop.loc[(df4MergeDrop.base_salary == 13.23),'base_salary']=27518\n",
        "df4MergeDrop.loc[(df4MergeDrop.base_salary == 17.57),'base_salary']=36546\n",
        "df4MergeDrop.loc[(df4MergeDrop.base_salary == 11.21),'base_salary']=23317\n",
        "df4MergeDrop.loc[(df4MergeDrop.base_salary == 9.94),'base_salary']=20675\n",
        "df4MergeDrop.loc[(df4MergeDrop.base_salary == 22.400),'base_salary']=46592\n",
        "df4MergeDrop.loc[(df4MergeDrop.base_salary == 18.9),'base_salary']=39312\n",
        "df4MergeDrop.loc[(df4MergeDrop.base_salary == 16.2),'base_salary']=33696\n",
        "df4MergeDrop.loc[(df4MergeDrop.base_salary == 26.90),'base_salary']=55952\n",
        "df4MergeDrop.loc[(df4MergeDrop.base_salary == 18.05),'base_salary']=37544\n",
        "df4MergeDrop.loc[(df4MergeDrop.base_salary == 18.38),'base_salary']=38230\n",
        "df4MergeDrop.loc[(df4MergeDrop.base_salary == 14.300),'base_salary']=29744\n",
        "df4MergeDrop.loc[(df4MergeDrop.base_salary == 19.77),'base_salary']=41122\n",
        "df4MergeDrop.loc[(df4MergeDrop.base_salary == 20.82),'base_salary']=43306\n",
        "df4MergeDrop.loc[(df4MergeDrop.base_salary == 11.50),'base_salary']=23920\n",
        "df4MergeDrop.loc[(df4MergeDrop.base_salary == 25.27),'base_salary']=52562\n",
        "df4MergeDrop.loc[(df4MergeDrop.base_salary == 22.99),'base_salary']=47819\n",
        "df4MergeDrop.loc[(df4MergeDrop.base_salary == 19.62),'base_salary']=40810\n",
        "df4MergeDrop.loc[(df4MergeDrop.base_salary == 21.94),'base_salary']=45635\n",
        "df4MergeDrop.loc[(df4MergeDrop.base_salary == 27.94),'base_salary']=58115\n",
        "df4MergeDrop.loc[(df4MergeDrop.base_salary == 23.20),'base_salary']=48256\n",
        "df4MergeDrop.loc[(df4MergeDrop.base_salary == 22.36),'base_salary']=46509\n",
        "df4MergeDrop.loc[(df4MergeDrop.base_salary == 25.78),'base_salary']=53622\n",
        "df4MergeDrop.loc[(df4MergeDrop.base_salary == 12.35),'base_salary']=25688\n",
        "df4MergeDrop.loc[(df4MergeDrop.base_salary == 25.00),'base_salary']=52000\n",
        "df4MergeDrop.loc[(df4MergeDrop.base_salary == 14.70),'base_salary']=30576\n",
        "\n",
        "df4MergeDrop.loc[(df4MergeDrop.base_salary == 28.76),'base_salary']=59821\n",
        "df4MergeDrop.loc[(df4MergeDrop.base_salary == 26.91),'base_salary']=55973\n",
        "df4MergeDrop.loc[(df4MergeDrop.base_salary == 18.70),'base_salary']=38896\n",
        "df4MergeDrop.loc[(df4MergeDrop.base_salary == 17.90),'base_salary']=37232\n",
        "df4MergeDrop.loc[(df4MergeDrop.base_salary == 19.60),'base_salary']=40768\n",
        "df4MergeDrop.loc[(df4MergeDrop.base_salary == 21.17),'base_salary']=44034\n",
        "df4MergeDrop.loc[(df4MergeDrop.base_salary == 13.46),'base_salary']=27997\n",
        "df4MergeDrop.loc[(df4MergeDrop.base_salary == 10.62),'base_salary']=22090\n",
        "df4MergeDrop.loc[(df4MergeDrop.base_salary == 11.91),'base_salary']=24773\n",
        "df4MergeDrop.loc[(df4MergeDrop.base_salary == 16.65),'base_salary']=34632\n",
        "df4MergeDrop.loc[(df4MergeDrop.base_salary == 30.68),'base_salary']=63814\n",
        "df4MergeDrop.loc[(df4MergeDrop.base_salary == 40.87),'base_salary']=85010\n",
        "df4MergeDrop.loc[(df4MergeDrop.base_salary == 28.76),'base_salary']=43181\n",
        "df4MergeDrop.loc[(df4MergeDrop.base_salary == 11.15),'base_salary']=23192\n",
        "df4MergeDrop.loc[(df4MergeDrop.base_salary == 23.87),'base_salary']=49650\n",
        "df4MergeDrop.loc[(df4MergeDrop.base_salary == 25.00),'base_salary']=52000\n",
        "df4MergeDrop.loc[(df4MergeDrop.base_salary == 26.35),'base_salary']= 54808\n",
        "df4MergeDrop.loc[(df4MergeDrop.base_salary == 23.13),'base_salary']=48110\n",
        "df4MergeDrop.loc[(df4MergeDrop.base_salary == 25.08),'base_salary']=52166\n",
        "\n",
        "# df4MergeDrop\n"
      ],
      "execution_count": 0,
      "outputs": []
    },
    {
      "cell_type": "markdown",
      "metadata": {
        "id": "zD-_KLx6uly-",
        "colab_type": "text"
      },
      "source": [
        ""
      ]
    },
    {
      "cell_type": "code",
      "metadata": {
        "id": "MZB6WKTpcT-o",
        "colab_type": "code",
        "colab": {}
      },
      "source": [
        "#filter out rows less than $100 in salary and present ones greater than 50 \n",
        "df4MergeDrop= df4MergeDrop[df4MergeDrop['base_salary'] > 20]\n",
        "# df4MergeDrop.head(5)"
      ],
      "execution_count": 0,
      "outputs": []
    },
    {
      "cell_type": "markdown",
      "metadata": {
        "id": "7uZENu_S8Se4",
        "colab_type": "text"
      },
      "source": [
        "Adding a New Column called Yeardiff based on the difference between the end and start year and filtering out rows with Yeardiff > 1 "
      ]
    },
    {
      "cell_type": "code",
      "metadata": {
        "id": "S7BoFncBMPR3",
        "colab_type": "code",
        "outputId": "a5885d88-0eb9-4ed8-f44c-09d034a1715b",
        "colab": {
          "base_uri": "https://localhost:8080/",
          "height": 108
        }
      },
      "source": [
        "\n",
        "df4MergeDrop['Yeardiff'] = df4MergeDrop['end_year']-df4MergeDrop['start_year']\n",
        "df4MergeDrop= df4MergeDrop[df4MergeDrop['Yeardiff'] > 1]\n",
        "df4MergeDrop.head(2)"
      ],
      "execution_count": 0,
      "outputs": [
        {
          "output_type": "execute_result",
          "data": {
            "text/html": [
              "<div>\n",
              "<style scoped>\n",
              "    .dataframe tbody tr th:only-of-type {\n",
              "        vertical-align: middle;\n",
              "    }\n",
              "\n",
              "    .dataframe tbody tr th {\n",
              "        vertical-align: top;\n",
              "    }\n",
              "\n",
              "    .dataframe thead th {\n",
              "        text-align: right;\n",
              "    }\n",
              "</style>\n",
              "<table border=\"1\" class=\"dataframe\">\n",
              "  <thead>\n",
              "    <tr style=\"text-align: right;\">\n",
              "      <th></th>\n",
              "      <th>department</th>\n",
              "      <th>position_title</th>\n",
              "      <th>employee_status</th>\n",
              "      <th>start_year</th>\n",
              "      <th>end_year</th>\n",
              "      <th>base_salary</th>\n",
              "      <th>city</th>\n",
              "      <th>gender</th>\n",
              "      <th>ethnicity</th>\n",
              "      <th>education</th>\n",
              "      <th>birth_year</th>\n",
              "      <th>Yeardiff</th>\n",
              "    </tr>\n",
              "  </thead>\n",
              "  <tbody>\n",
              "    <tr>\n",
              "      <th>0</th>\n",
              "      <td>CF - MacArthur Memorial</td>\n",
              "      <td>Administrative Technician</td>\n",
              "      <td>Permanent Full-time</td>\n",
              "      <td>2015</td>\n",
              "      <td>2018</td>\n",
              "      <td>32798.10</td>\n",
              "      <td>Norfolk</td>\n",
              "      <td>Female</td>\n",
              "      <td>Black</td>\n",
              "      <td>G-Bachelor's Level Degree</td>\n",
              "      <td>1976</td>\n",
              "      <td>3</td>\n",
              "    </tr>\n",
              "    <tr>\n",
              "      <th>1</th>\n",
              "      <td>CF - MacArthur Memorial</td>\n",
              "      <td>Archivist</td>\n",
              "      <td>Permanent Full-time</td>\n",
              "      <td>1994</td>\n",
              "      <td>1996</td>\n",
              "      <td>60507.96</td>\n",
              "      <td>Va Beach</td>\n",
              "      <td>Male</td>\n",
              "      <td>White</td>\n",
              "      <td>A-Not Indicated</td>\n",
              "      <td>1963</td>\n",
              "      <td>2</td>\n",
              "    </tr>\n",
              "  </tbody>\n",
              "</table>\n",
              "</div>"
            ],
            "text/plain": [
              "                department             position_title  ... birth_year  Yeardiff\n",
              "0  CF - MacArthur Memorial  Administrative Technician  ...       1976         3\n",
              "1  CF - MacArthur Memorial                  Archivist  ...       1963         2\n",
              "\n",
              "[2 rows x 12 columns]"
            ]
          },
          "metadata": {
            "tags": []
          },
          "execution_count": 57
        }
      ]
    },
    {
      "cell_type": "code",
      "metadata": {
        "id": "Orr-306PIzzM",
        "colab_type": "code",
        "outputId": "5df8e097-175c-4e13-f598-d61fc6b7242d",
        "colab": {
          "base_uri": "https://localhost:8080/",
          "height": 345
        }
      },
      "source": [
        "%matplotlib inline\n",
        "corr = df4MergeDrop.corr()\n",
        "sns.heatmap(corr, \n",
        "        xticklabels=corr.columns,\n",
        "        yticklabels=corr.columns)"
      ],
      "execution_count": 0,
      "outputs": [
        {
          "output_type": "execute_result",
          "data": {
            "text/plain": [
              "<matplotlib.axes._subplots.AxesSubplot at 0x7f25a64f4358>"
            ]
          },
          "metadata": {
            "tags": []
          },
          "execution_count": 58
        },
        {
          "output_type": "display_data",
          "data": {
            "image/png": "[encoded data removed]",
            "text/plain": [
              "<Figure size 432x288 with 2 Axes>"
            ]
          },
          "metadata": {
            "tags": []
          }
        }
      ]
    },
    {
      "cell_type": "code",
      "metadata": {
        "id": "BPNbQxnj8hOX",
        "colab_type": "code",
        "colab": {}
      },
      "source": [
        ""
      ],
      "execution_count": 0,
      "outputs": []
    },
    {
      "cell_type": "markdown",
      "metadata": {
        "id": "wt_uzCAK8jKZ",
        "colab_type": "text"
      },
      "source": [
        "**Showing the number of rows per position_Title in my dataframe** **(this is to arrive @ a position_title with the Max number of rows**\n",
        "**available to perform a test on**. "
      ]
    },
    {
      "cell_type": "code",
      "metadata": {
        "id": "49WN7h2kyEVt",
        "colab_type": "code",
        "outputId": "dc7e20fa-07fa-466c-ab13-09d6beeb1282",
        "colab": {
          "base_uri": "https://localhost:8080/",
          "height": 726
        }
      },
      "source": [
        "\n",
        "\n",
        "maxNumPosition =  df4MergeDrop['position_title'].value_counts()\n",
        "maxNumPosition[maxNumPosition >20]"
      ],
      "execution_count": 0,
      "outputs": [
        {
          "output_type": "execute_result",
          "data": {
            "text/plain": [
              "Police Officer                    532\n",
              "Youth Services Worker             425\n",
              "Firefighter EMT - Advanced        222\n",
              "Deputy Sheriff                    199\n",
              "Benefit Programs Specialist II    192\n",
              "Police Sergeant                   155\n",
              "Fire Lieutenant                   138\n",
              "Fire Captain                      138\n",
              "Benefit Programs Specialist I      76\n",
              "Lifeguard                          75\n",
              "Recreation Aide                    73\n",
              "Police Corporal                    73\n",
              "Family Services Worker II          73\n",
              "Equipment Operator III             73\n",
              "Equipment Operator II              58\n",
              "Library Assistant II               56\n",
              "Firefighter EMT-P                  49\n",
              "School Crossing Guard              41\n",
              "Police Lieutenant                  39\n",
              "Crew Leader I                      38\n",
              "Rec Activity Instructor            37\n",
              "Benefit Programs Specialist Sr     36\n",
              "Support Technician                 34\n",
              "Recreation Specialist              34\n",
              "Firefighter EMT-I                  31\n",
              "Maintenance Worker II              30\n",
              "Human Services Aide                29\n",
              "Case Manager III                   29\n",
              "Recreation Supervisor              27\n",
              "Deputy Sheriff (Corporal)          25\n",
              "Fire Inspector                     25\n",
              "Deputy Sheriff (Master)            25\n",
              "Benefit Programs Supervisor        23\n",
              "Utility Maintenance Supervisor     22\n",
              "Youth Detention Specialist II      22\n",
              "Youth Detention Specialist III     22\n",
              "Battalion Fire Chief               22\n",
              "Automotive Repair Tech, Senior     21\n",
              "Name: position_title, dtype: int64"
            ]
          },
          "metadata": {
            "tags": []
          },
          "execution_count": 101
        }
      ]
    },
    {
      "cell_type": "code",
      "metadata": {
        "id": "b94IX6JschdD",
        "colab_type": "code",
        "colab": {}
      },
      "source": [
        "# plt.scatter(df4MergeDrop[\"Yeardiff\"], df4MergeDrop[\"base_salary\"])\n",
        "# plt.ylim(0,1000)\n",
        "# plt.show()"
      ],
      "execution_count": 0,
      "outputs": []
    },
    {
      "cell_type": "code",
      "metadata": {
        "id": "cws6gU5E9M2D",
        "colab_type": "code",
        "colab": {}
      },
      "source": [
        ""
      ],
      "execution_count": 0,
      "outputs": []
    },
    {
      "cell_type": "markdown",
      "metadata": {
        "id": "ocO9CP3t9Xo2",
        "colab_type": "text"
      },
      "source": [
        "**Selecting the first highest Position**"
      ]
    },
    {
      "cell_type": "code",
      "metadata": {
        "id": "c5ur2m1x4Q55",
        "colab_type": "code",
        "colab": {}
      },
      "source": [
        "\n",
        "#  selection1  = df4MergeDrop[(df4MergeDrop['position_title'] == 'Deputy Sheriff' ) & (df4MergeDrop['base_salary']< 100)]\n",
        "selection1 = df4MergeDrop[df4MergeDrop['position_title']== 'Police Officer' ]\n",
        "selection1 = selection1\n",
        "# selection1= selection1.groupby('ethnicity')\n",
        "# selection1.first()"
      ],
      "execution_count": 0,
      "outputs": []
    },
    {
      "cell_type": "code",
      "metadata": {
        "id": "qSaTqbIPlpDJ",
        "colab_type": "code",
        "outputId": "397bcabc-39ba-45fe-f334-5d552cf3f4da",
        "colab": {
          "base_uri": "https://localhost:8080/",
          "height": 204
        }
      },
      "source": [
        "selection1= selection1[['position_title','base_salary','Yeardiff','start_year','end_year','gender','ethnicity','education']]\n",
        "selection1.tail(5)"
      ],
      "execution_count": 0,
      "outputs": [
        {
          "output_type": "execute_result",
          "data": {
            "text/html": [
              "<div>\n",
              "<style scoped>\n",
              "    .dataframe tbody tr th:only-of-type {\n",
              "        vertical-align: middle;\n",
              "    }\n",
              "\n",
              "    .dataframe tbody tr th {\n",
              "        vertical-align: top;\n",
              "    }\n",
              "\n",
              "    .dataframe thead th {\n",
              "        text-align: right;\n",
              "    }\n",
              "</style>\n",
              "<table border=\"1\" class=\"dataframe\">\n",
              "  <thead>\n",
              "    <tr style=\"text-align: right;\">\n",
              "      <th></th>\n",
              "      <th>position_title</th>\n",
              "      <th>base_salary</th>\n",
              "      <th>Yeardiff</th>\n",
              "      <th>start_year</th>\n",
              "      <th>end_year</th>\n",
              "      <th>gender</th>\n",
              "      <th>ethnicity</th>\n",
              "      <th>education</th>\n",
              "    </tr>\n",
              "  </thead>\n",
              "  <tbody>\n",
              "    <tr>\n",
              "      <th>23635</th>\n",
              "      <td>Police Officer</td>\n",
              "      <td>64384.00</td>\n",
              "      <td>2</td>\n",
              "      <td>1994</td>\n",
              "      <td>1996</td>\n",
              "      <td>Male</td>\n",
              "      <td>Black</td>\n",
              "      <td>A-Not Indicated</td>\n",
              "    </tr>\n",
              "    <tr>\n",
              "      <th>23636</th>\n",
              "      <td>Police Officer</td>\n",
              "      <td>64384.00</td>\n",
              "      <td>2</td>\n",
              "      <td>1994</td>\n",
              "      <td>1996</td>\n",
              "      <td>Male</td>\n",
              "      <td>White</td>\n",
              "      <td>A-Not Indicated</td>\n",
              "    </tr>\n",
              "    <tr>\n",
              "      <th>23637</th>\n",
              "      <td>Police Officer</td>\n",
              "      <td>64384.00</td>\n",
              "      <td>2</td>\n",
              "      <td>1994</td>\n",
              "      <td>1996</td>\n",
              "      <td>Male</td>\n",
              "      <td>Black</td>\n",
              "      <td>A-Not Indicated</td>\n",
              "    </tr>\n",
              "    <tr>\n",
              "      <th>23638</th>\n",
              "      <td>Police Officer</td>\n",
              "      <td>64384.00</td>\n",
              "      <td>2</td>\n",
              "      <td>1994</td>\n",
              "      <td>1996</td>\n",
              "      <td>Male</td>\n",
              "      <td>White</td>\n",
              "      <td>A-Not Indicated</td>\n",
              "    </tr>\n",
              "    <tr>\n",
              "      <th>23639</th>\n",
              "      <td>Police Officer</td>\n",
              "      <td>65671.83</td>\n",
              "      <td>4</td>\n",
              "      <td>1992</td>\n",
              "      <td>1996</td>\n",
              "      <td>Male</td>\n",
              "      <td>White</td>\n",
              "      <td>A-Not Indicated</td>\n",
              "    </tr>\n",
              "  </tbody>\n",
              "</table>\n",
              "</div>"
            ],
            "text/plain": [
              "       position_title  base_salary  Yeardiff  ...  gender  ethnicity        education\n",
              "23635  Police Officer     64384.00         2  ...    Male      Black  A-Not Indicated\n",
              "23636  Police Officer     64384.00         2  ...    Male      White  A-Not Indicated\n",
              "23637  Police Officer     64384.00         2  ...    Male      Black  A-Not Indicated\n",
              "23638  Police Officer     64384.00         2  ...    Male      White  A-Not Indicated\n",
              "23639  Police Officer     65671.83         4  ...    Male      White  A-Not Indicated\n",
              "\n",
              "[5 rows x 8 columns]"
            ]
          },
          "metadata": {
            "tags": []
          },
          "execution_count": 43
        }
      ]
    },
    {
      "cell_type": "code",
      "metadata": {
        "id": "83iOfIVjZX6C",
        "colab_type": "code",
        "colab": {}
      },
      "source": [
        "# k = (selection1[selection1.Yeardiff == selection1.Yeardiff.max()]) \n",
        "# k\n",
        "# selection1.plot(figsize=(18,5))\n",
        "# selection1['base_salary'].dtype"
      ],
      "execution_count": 0,
      "outputs": []
    },
    {
      "cell_type": "code",
      "metadata": {
        "id": "lvDqv6fAb31F",
        "colab_type": "code",
        "colab": {}
      },
      "source": [
        "# plt.scatter(selection1[\"Yeardiff\"], selection1[\"base_salary\"])\n",
        "# plt.show()"
      ],
      "execution_count": 0,
      "outputs": []
    },
    {
      "cell_type": "code",
      "metadata": {
        "id": "7Hl0G1SFK7s_",
        "colab_type": "code",
        "outputId": "18ce177d-72cd-4c5d-b464-9a98772ec7c9",
        "colab": {
          "base_uri": "https://localhost:8080/",
          "height": 163
        }
      },
      "source": [
        "selectMaleWhite = selection1[(selection1['gender']== 'Male') & (selection1['ethnicity']== 'White') ]\n",
        "selectFemaleWhite = selection1[(selection1['gender']== 'Female') & (selection1['ethnicity']== 'White') ]\n",
        "\n",
        "selectFemaleHispanic = selection1[(selection1['gender']== 'Female') & (selection1['ethnicity']== 'Hispanic')]\n",
        "selectMaleHispanic = selection1[(selection1['gender']== 'Male') & (selection1['ethnicity']== 'Hispanic')]\n",
        "\n",
        "selectFemaleBlack = selection1[(selection1['gender']== 'Female') & (selection1['ethnicity']== 'Black')]\n",
        "selectMaleBlack = selection1[(selection1['gender']== 'Male') & (selection1['ethnicity']== 'Black')]\n",
        "\n",
        "\n",
        "selectFemaleWhite = len(selectFemaleWhite)\n",
        "selectMaleWhite   =len(selectMaleWhite)\n",
        "selectFemaleHispanic = len(selectFemaleHispanic)\n",
        "selectMaleHispanic  = len(selectMaleHispanic)\n",
        "selectFemaleBlack = len(selectFemaleBlack)\n",
        "selectMaleBlack = len(selectMaleBlack)\n",
        "\n",
        "# print'number of Female white within the Police group =' + str(selectFemaleWhite)\n",
        "print(\"number of white Female within the Police group =\", selectFemaleWhite)\n",
        "print(\"number of white Male within the Police group =\", selectMaleWhite)\n",
        "print()\n",
        "print(\"number of Hispanic Female within the Police group =\", selectFemaleHispanic)\n",
        "print(\"number of Hispanic Male within the Police group =\", selectMaleHispanic)\n",
        "print()\n",
        "print(\"number of black Female within the Police group =\", selectFemaleBlack)\n",
        "print(\"number of black Male within the Police group =\", selectMaleBlack)\n",
        "\n",
        "# print(selectMaleWhite)\n",
        "\n",
        "# print(selectFemaleHispanic)\n",
        "# print(selectMaleHispanic)\n",
        "\n",
        "# selectMaleWhite[['col2', 'col3', 'col4']].eq(1).sum()"
      ],
      "execution_count": 0,
      "outputs": [
        {
          "output_type": "stream",
          "text": [
            "number of white Female within the Police group = 33\n",
            "number of white Male within the Police group = 310\n",
            "\n",
            "number of Hispanic Female within the Police group = 10\n",
            "number of Hispanic Male within the Police group = 28\n",
            "\n",
            "number of black Female within the Police group = 7\n",
            "number of black Male within the Police group = 110\n"
          ],
          "name": "stdout"
        }
      ]
    },
    {
      "cell_type": "code",
      "metadata": {
        "id": "W7pJl4b89kl8",
        "colab_type": "code",
        "colab": {}
      },
      "source": [
        ""
      ],
      "execution_count": 0,
      "outputs": []
    },
    {
      "cell_type": "code",
      "metadata": {
        "id": "0fKB6AqxJb-E",
        "colab_type": "code",
        "outputId": "25344ea9-d337-4672-ad47-0a5d8b61e7fc",
        "colab": {
          "base_uri": "https://localhost:8080/",
          "height": 466
        }
      },
      "source": [
        "# sns.boxplot(data=df4MergeDrop)\n",
        "plt.figure(figsize=(10,7))\n",
        "sns.boxplot(x=\"ethnicity\", y=\"base_salary\", hue=\"gender\", data=selection1, palette=\"Set1\")"
      ],
      "execution_count": 0,
      "outputs": [
        {
          "output_type": "execute_result",
          "data": {
            "text/plain": [
              "<matplotlib.axes._subplots.AxesSubplot at 0x7f25a6166c18>"
            ]
          },
          "metadata": {
            "tags": []
          },
          "execution_count": 84
        },
        {
          "output_type": "display_data",
          "data": {
            "image/png": "[encoded data removed]",
            "text/plain": [
              "<Figure size 720x504 with 1 Axes>"
            ]
          },
          "metadata": {
            "tags": []
          }
        }
      ]
    },
    {
      "cell_type": "code",
      "metadata": {
        "id": "HGwM_JESLpXo",
        "colab_type": "code",
        "colab": {}
      },
      "source": [
        ""
      ],
      "execution_count": 0,
      "outputs": []
    },
    {
      "cell_type": "code",
      "metadata": {
        "id": "0b-8YWEILqAL",
        "colab_type": "code",
        "colab": {}
      },
      "source": [
        "\n",
        "# plt.figure(figsize=(10,6))\n",
        "# sns.boxplot(x=\"ethnicity\", y=\"Rescalebase_salary\", hue=\"gender\", data=selection1, palette=\"Set2\""
      ],
      "execution_count": 0,
      "outputs": []
    },
    {
      "cell_type": "code",
      "metadata": {
        "id": "Z8BKgRQnHUIv",
        "colab_type": "code",
        "outputId": "3849d63b-19ca-49df-aeac-e81c1e576b0b",
        "colab": {
          "base_uri": "https://localhost:8080/",
          "height": 629
        }
      },
      "source": [
        "selection2= selection1[['base_salary']]\n",
        "def zscore(selection2): \n",
        "    return (selection2 - selection2.mean(skipna=True)) / selection2.std(skipna=True);\n",
        "    \n",
        "\n",
        "selection1['Zscorebase_salary'] = selection2.apply(zscore)\n",
        "selection1.head(1)\n",
        "\n",
        "plt.figure(figsize=(20,8))\n",
        "sns.violinplot(x=\"ethnicity\",y=\"Zscorebase_salary\", hue=\"gender\",data=selection1,palette=\"pastel\",split = False)\n",
        "\n"
      ],
      "execution_count": 0,
      "outputs": [
        {
          "output_type": "stream",
          "text": [
            "/usr/local/lib/python3.6/dist-packages/ipykernel_launcher.py:6: SettingWithCopyWarning: \n",
            "A value is trying to be set on a copy of a slice from a DataFrame.\n",
            "Try using .loc[row_indexer,col_indexer] = value instead\n",
            "\n",
            "See the caveats in the documentation: http://pandas.pydata.org/pandas-docs/stable/user_guide/indexing.html#returning-a-view-versus-a-copy\n",
            "  \n"
          ],
          "name": "stderr"
        },
        {
          "output_type": "execute_result",
          "data": {
            "text/plain": [
              "<matplotlib.axes._subplots.AxesSubplot at 0x7f25a3353320>"
            ]
          },
          "metadata": {
            "tags": []
          },
          "execution_count": 120
        },
        {
          "output_type": "display_data",
          "data": {
            "image/png": "[encoded data removed]",
            "text/plain": [
              "<Figure size 1440x576 with 1 Axes>"
            ]
          },
          "metadata": {
            "tags": []
          }
        }
      ]
    },
    {
      "cell_type": "code",
      "metadata": {
        "id": "GhjapT68ZvVR",
        "colab_type": "code",
        "outputId": "4792a175-0702-461c-976a-179baa1d8995",
        "colab": {
          "base_uri": "https://localhost:8080/",
          "height": 181
        }
      },
      "source": [
        "selection1[\"base_salary\"].describe() \n"
      ],
      "execution_count": 0,
      "outputs": [
        {
          "output_type": "execute_result",
          "data": {
            "text/plain": [
              "count      532.000000\n",
              "mean     56067.911259\n",
              "std       7048.042667\n",
              "min      43500.000000\n",
              "25%      49187.000000\n",
              "50%      56974.000000\n",
              "75%      61318.000000\n",
              "max      68004.710000\n",
              "Name: base_salary, dtype: float64"
            ]
          },
          "metadata": {
            "tags": []
          },
          "execution_count": 121
        }
      ]
    },
    {
      "cell_type": "code",
      "metadata": {
        "id": "4QM3fOqtcMGy",
        "colab_type": "code",
        "outputId": "9fc33116-e0f7-41ea-84dc-4c667a874d6d",
        "colab": {
          "base_uri": "https://localhost:8080/",
          "height": 538
        }
      },
      "source": [
        " plt.figure(figsize=(20,8))\n",
        "plt.legend(loc='best')\n",
        " sns.set(style=\"whitegrid\")\n",
        "\n",
        "ax = sns.barplot(x=\"ethnicity\", y=\"base_salary\", hue=\"education\", data=selection1,edgecolor=(0,0,0),\n",
        "                  linewidth=2,saturation=3.5,ci=95)\n",
        "ax.legend(loc='lower right')"
      ],
      "execution_count": 0,
      "outputs": [
        {
          "output_type": "stream",
          "text": [
            "No handles with labels found to put in legend.\n"
          ],
          "name": "stderr"
        },
        {
          "output_type": "execute_result",
          "data": {
            "text/plain": [
              "<matplotlib.legend.Legend at 0x7f25a3052860>"
            ]
          },
          "metadata": {
            "tags": []
          },
          "execution_count": 127
        },
        {
          "output_type": "display_data",
          "data": {
            "image/png": "[encoded data removed]",
            "text/plain": [
              "<Figure size 1440x576 with 1 Axes>"
            ]
          },
          "metadata": {
            "tags": []
          }
        }
      ]
    },
    {
      "cell_type": "code",
      "metadata": {
        "id": "8ETlCudzF9aO",
        "colab_type": "code",
        "outputId": "7a9b7ee3-3323-4db6-e160-cb1a2fcf188e",
        "colab": {
          "base_uri": "https://localhost:8080/",
          "height": 135
        }
      },
      "source": [
        "# palette=[\"C0\", \"C1\", \"C7\"]\n",
        "plt.figure(figsize=20,8))\n",
        "plt.legend(loc='best')\n",
        "sns.set(style=\"whitegrid\")\n",
        "\n",
        "ax = sns.barplot(x=\"ethnicity\", y=\"base_salary\", hue=\"education\", data=selection1,edgecolor=(0,0,0),\n",
        "                  linewidth=2,saturation=3.5,ci=95)\n",
        "ax.legend(loc='lower right')"
      ],
      "execution_count": 0,
      "outputs": [
        {
          "output_type": "error",
          "ename": "SyntaxError",
          "evalue": "ignored",
          "traceback": [
            "\u001b[0;36m  File \u001b[0;32m\"<ipython-input-123-528c89200471>\"\u001b[0;36m, line \u001b[0;32m1\u001b[0m\n\u001b[0;31m    plt.figure(figsize=10,8))\u001b[0m\n\u001b[0m                            ^\u001b[0m\n\u001b[0;31mSyntaxError\u001b[0m\u001b[0;31m:\u001b[0m invalid syntax\n"
          ]
        }
      ]
    },
    {
      "cell_type": "code",
      "metadata": {
        "id": "hm9qvdgRmsP5",
        "colab_type": "code",
        "colab": {}
      },
      "source": [
        ""
      ],
      "execution_count": 0,
      "outputs": []
    },
    {
      "cell_type": "code",
      "metadata": {
        "id": "7WemFub0OKbN",
        "colab_type": "code",
        "colab": {}
      },
      "source": [
        "# sns.distplot(df4MergeDrop.base_salary)"
      ],
      "execution_count": 0,
      "outputs": []
    },
    {
      "cell_type": "markdown",
      "metadata": {
        "id": "zSsTKatQ5eit",
        "colab_type": "text"
      },
      "source": [
        "**Selecting the 2nd Highest position for exploration Youth Service Worker**\n",
        "\n",
        "\n"
      ]
    },
    {
      "cell_type": "code",
      "metadata": {
        "id": "zPNa0znX51TE",
        "colab_type": "code",
        "outputId": "d7768523-5404-424c-a8da-6786631b33a3",
        "colab": {
          "base_uri": "https://localhost:8080/",
          "height": 204
        }
      },
      "source": [
        "selection3 = df4MergeDrop[df4MergeDrop['position_title']=='Youth Services Worker']\n",
        "selection3 = selection3\n",
        "\n",
        "selection3= selection3[['position_title','base_salary','Yeardiff','start_year','end_year','gender','ethnicity','education']]\n",
        "selection3.tail(5)"
      ],
      "execution_count": 0,
      "outputs": [
        {
          "output_type": "execute_result",
          "data": {
            "text/html": [
              "<div>\n",
              "<style scoped>\n",
              "    .dataframe tbody tr th:only-of-type {\n",
              "        vertical-align: middle;\n",
              "    }\n",
              "\n",
              "    .dataframe tbody tr th {\n",
              "        vertical-align: top;\n",
              "    }\n",
              "\n",
              "    .dataframe thead th {\n",
              "        text-align: right;\n",
              "    }\n",
              "</style>\n",
              "<table border=\"1\" class=\"dataframe\">\n",
              "  <thead>\n",
              "    <tr style=\"text-align: right;\">\n",
              "      <th></th>\n",
              "      <th>position_title</th>\n",
              "      <th>base_salary</th>\n",
              "      <th>Yeardiff</th>\n",
              "      <th>start_year</th>\n",
              "      <th>end_year</th>\n",
              "      <th>gender</th>\n",
              "      <th>ethnicity</th>\n",
              "      <th>education</th>\n",
              "    </tr>\n",
              "  </thead>\n",
              "  <tbody>\n",
              "    <tr>\n",
              "      <th>37907</th>\n",
              "      <td>Youth Services Worker</td>\n",
              "      <td>15704.0</td>\n",
              "      <td>2</td>\n",
              "      <td>2017</td>\n",
              "      <td>2019</td>\n",
              "      <td>Female</td>\n",
              "      <td>Black</td>\n",
              "      <td>B-Less Than HS Graduate</td>\n",
              "    </tr>\n",
              "    <tr>\n",
              "      <th>37908</th>\n",
              "      <td>Youth Services Worker</td>\n",
              "      <td>15704.0</td>\n",
              "      <td>2</td>\n",
              "      <td>2017</td>\n",
              "      <td>2019</td>\n",
              "      <td>Female</td>\n",
              "      <td>Black</td>\n",
              "      <td>D-Some College</td>\n",
              "    </tr>\n",
              "    <tr>\n",
              "      <th>37909</th>\n",
              "      <td>Youth Services Worker</td>\n",
              "      <td>15704.0</td>\n",
              "      <td>2</td>\n",
              "      <td>2017</td>\n",
              "      <td>2019</td>\n",
              "      <td>Female</td>\n",
              "      <td>Black</td>\n",
              "      <td>D-Some College</td>\n",
              "    </tr>\n",
              "    <tr>\n",
              "      <th>37910</th>\n",
              "      <td>Youth Services Worker</td>\n",
              "      <td>15704.0</td>\n",
              "      <td>2</td>\n",
              "      <td>2017</td>\n",
              "      <td>2019</td>\n",
              "      <td>Female</td>\n",
              "      <td>Black</td>\n",
              "      <td>B-Less Than HS Graduate</td>\n",
              "    </tr>\n",
              "    <tr>\n",
              "      <th>37911</th>\n",
              "      <td>Youth Services Worker</td>\n",
              "      <td>15704.0</td>\n",
              "      <td>2</td>\n",
              "      <td>2017</td>\n",
              "      <td>2019</td>\n",
              "      <td>Male</td>\n",
              "      <td>Black</td>\n",
              "      <td>B-Less Than HS Graduate</td>\n",
              "    </tr>\n",
              "  </tbody>\n",
              "</table>\n",
              "</div>"
            ],
            "text/plain": [
              "              position_title  base_salary  ...  ethnicity                education\n",
              "37907  Youth Services Worker      15704.0  ...      Black  B-Less Than HS Graduate\n",
              "37908  Youth Services Worker      15704.0  ...      Black           D-Some College\n",
              "37909  Youth Services Worker      15704.0  ...      Black           D-Some College\n",
              "37910  Youth Services Worker      15704.0  ...      Black  B-Less Than HS Graduate\n",
              "37911  Youth Services Worker      15704.0  ...      Black  B-Less Than HS Graduate\n",
              "\n",
              "[5 rows x 8 columns]"
            ]
          },
          "metadata": {
            "tags": []
          },
          "execution_count": 381
        }
      ]
    },
    {
      "cell_type": "code",
      "metadata": {
        "id": "Kr6AyMgY8_H-",
        "colab_type": "code",
        "outputId": "8602a36e-dbdc-4d3f-a15f-7426b1f5af00",
        "colab": {
          "base_uri": "https://localhost:8080/",
          "height": 153
        }
      },
      "source": [
        "\n",
        "\n",
        "selectMaleWhite = selection3[(selection3['gender']=='Male') & (selection3['ethnicity']=='White') ]\n",
        "selectFemaleWhite = selection3[(selection3['gender']=='Female') & (selection3['ethnicity']=='White') ]\n",
        "\n",
        "selectFemaleHispanic = selection3[(selection3['gender']== 'Female') & (selection3['ethnicity']=='Hispanic')]\n",
        "selectMaleHispanic = selection3[(selection3['gender']== 'Male') & (selection3['ethnicity']== 'Hispanic')]\n",
        "\n",
        "selectFemaleBlack = selection3[(selection3['gender']=='Female') & (selection3['ethnicity']== 'Black')]\n",
        "selectMaleBlack = selection3[(selection3['gender']=='Male') & (selection3['ethnicity']== 'Black')]\n",
        "\n",
        "\n",
        "selectFemaleWhite = len(selectFemaleWhite)\n",
        "selectMaleWhite   =len(selectMaleWhite)\n",
        "selectFemaleHispanic = len(selectFemaleHispanic)\n",
        "selectMaleHispanic  = len(selectMaleHispanic)\n",
        "selectFemaleBlack = len(selectFemaleBlack)\n",
        "selectMaleBlack = len(selectMaleBlack)\n",
        "\n",
        "# print'number of Female white within the Police group =' + str(selectFemaleWhite)\n",
        "print(\"number of white Female in the Youth Services Worker group =\", selectFemaleWhite)\n",
        "print(\"number of white Male in the Youth Services Worker =\", selectMaleWhite)\n",
        "print()\n",
        "print(\"number of Hispanic Female in the Youth Services Worker =\", selectFemaleHispanic)\n",
        "print(\"number of Hispanic Male in Youth Services Worker =\", selectMaleHispanic)\n",
        "print()\n",
        "print(\"number of black Female in the Youth Services Worker =\", selectFemaleBlack)\n",
        "print(\"number of black Male in the Youth Services Worker =\", selectMaleBlack)\n"
      ],
      "execution_count": 0,
      "outputs": [
        {
          "output_type": "stream",
          "text": [
            "number of white Female in the Youth Services Worker group = 0\n",
            "number of white Male in the Youth Services Worker = 0\n",
            "\n",
            "number of Hispanic Female in the Youth Services Worker = 0\n",
            "number of Hispanic Male in Youth Services Worker = 0\n",
            "\n",
            "number of black Female in the Youth Services Worker = 322\n",
            "number of black Male in the Youth Services Worker = 103\n"
          ],
          "name": "stdout"
        }
      ]
    },
    {
      "cell_type": "code",
      "metadata": {
        "id": "emB5vQcbFjcX",
        "colab_type": "code",
        "colab": {}
      },
      "source": [
        ""
      ],
      "execution_count": 0,
      "outputs": []
    },
    {
      "cell_type": "markdown",
      "metadata": {
        "id": "dkqPy8rzFmsh",
        "colab_type": "text"
      },
      "source": [
        "**Selecting the 3rd Highest position for exploration    'FireFighter EMT Advanced '**"
      ]
    },
    {
      "cell_type": "code",
      "metadata": {
        "id": "5Q3GEesXHC__",
        "colab_type": "code",
        "outputId": "5694ba20-c042-4f77-cf27-337765910c05",
        "colab": {
          "base_uri": "https://localhost:8080/",
          "height": 204
        }
      },
      "source": [
        "selection6 = df4MergeDrop[df4MergeDrop['position_title']=='Firefighter EMT - Advanced']\n",
        "selection6 = selection6\n",
        "\n",
        "selection6= selection6[['position_title','base_salary','Yeardiff','start_year','end_year','gender','ethnicity','education']]\n",
        "selection6.tail(5)"
      ],
      "execution_count": 0,
      "outputs": [
        {
          "output_type": "execute_result",
          "data": {
            "text/html": [
              "<div>\n",
              "<style scoped>\n",
              "    .dataframe tbody tr th:only-of-type {\n",
              "        vertical-align: middle;\n",
              "    }\n",
              "\n",
              "    .dataframe tbody tr th {\n",
              "        vertical-align: top;\n",
              "    }\n",
              "\n",
              "    .dataframe thead th {\n",
              "        text-align: right;\n",
              "    }\n",
              "</style>\n",
              "<table border=\"1\" class=\"dataframe\">\n",
              "  <thead>\n",
              "    <tr style=\"text-align: right;\">\n",
              "      <th></th>\n",
              "      <th>position_title</th>\n",
              "      <th>base_salary</th>\n",
              "      <th>Yeardiff</th>\n",
              "      <th>start_year</th>\n",
              "      <th>end_year</th>\n",
              "      <th>gender</th>\n",
              "      <th>ethnicity</th>\n",
              "      <th>education</th>\n",
              "    </tr>\n",
              "  </thead>\n",
              "  <tbody>\n",
              "    <tr>\n",
              "      <th>3515</th>\n",
              "      <td>Firefighter EMT - Advanced</td>\n",
              "      <td>65368.38</td>\n",
              "      <td>4</td>\n",
              "      <td>1992</td>\n",
              "      <td>1996</td>\n",
              "      <td>Male</td>\n",
              "      <td>White</td>\n",
              "      <td>A-Not Indicated</td>\n",
              "    </tr>\n",
              "    <tr>\n",
              "      <th>3516</th>\n",
              "      <td>Firefighter EMT - Advanced</td>\n",
              "      <td>65368.38</td>\n",
              "      <td>4</td>\n",
              "      <td>1992</td>\n",
              "      <td>1996</td>\n",
              "      <td>Male</td>\n",
              "      <td>White</td>\n",
              "      <td>A-Not Indicated</td>\n",
              "    </tr>\n",
              "    <tr>\n",
              "      <th>3517</th>\n",
              "      <td>Firefighter EMT - Advanced</td>\n",
              "      <td>65368.38</td>\n",
              "      <td>4</td>\n",
              "      <td>1992</td>\n",
              "      <td>1996</td>\n",
              "      <td>Male</td>\n",
              "      <td>White</td>\n",
              "      <td>A-Not Indicated</td>\n",
              "    </tr>\n",
              "    <tr>\n",
              "      <th>3518</th>\n",
              "      <td>Firefighter EMT - Advanced</td>\n",
              "      <td>65368.38</td>\n",
              "      <td>11</td>\n",
              "      <td>1985</td>\n",
              "      <td>1996</td>\n",
              "      <td>Male</td>\n",
              "      <td>White</td>\n",
              "      <td>A-Not Indicated</td>\n",
              "    </tr>\n",
              "    <tr>\n",
              "      <th>3519</th>\n",
              "      <td>Firefighter EMT - Advanced</td>\n",
              "      <td>65368.38</td>\n",
              "      <td>15</td>\n",
              "      <td>1981</td>\n",
              "      <td>1996</td>\n",
              "      <td>Male</td>\n",
              "      <td>White</td>\n",
              "      <td>A-Not Indicated</td>\n",
              "    </tr>\n",
              "  </tbody>\n",
              "</table>\n",
              "</div>"
            ],
            "text/plain": [
              "                  position_title  base_salary  ...  ethnicity        education\n",
              "3515  Firefighter EMT - Advanced     65368.38  ...      White  A-Not Indicated\n",
              "3516  Firefighter EMT - Advanced     65368.38  ...      White  A-Not Indicated\n",
              "3517  Firefighter EMT - Advanced     65368.38  ...      White  A-Not Indicated\n",
              "3518  Firefighter EMT - Advanced     65368.38  ...      White  A-Not Indicated\n",
              "3519  Firefighter EMT - Advanced     65368.38  ...      White  A-Not Indicated\n",
              "\n",
              "[5 rows x 8 columns]"
            ]
          },
          "metadata": {
            "tags": []
          },
          "execution_count": 371
        }
      ]
    },
    {
      "cell_type": "code",
      "metadata": {
        "id": "e52vHS_CJb2d",
        "colab_type": "code",
        "outputId": "b3207c5e-9fe9-4c24-cf94-f47bd80fffec",
        "colab": {
          "base_uri": "https://localhost:8080/",
          "height": 153
        }
      },
      "source": [
        "selectMaleWhite   = selection6[(selection6['gender']== 'Male') & (selection6['ethnicity']== 'White') ]\n",
        "selectFemaleWhite = selection6[(selection6['gender']== 'Female') & (selection6['ethnicity']== 'White') ]\n",
        "\n",
        "selectFemaleHispanic = selection6[(selection6['gender']== 'Female') & (selection6['ethnicity']== 'Hispanic')]\n",
        "selectMaleHispanic   = selection6[(selection6['gender']== 'Male') & (selection6['ethnicity']== 'Hispanic')]\n",
        "\n",
        "selectFemaleBlack = selection6[(selection6['gender']== 'Female') & (selection6['ethnicity']== 'Black')]\n",
        "selectMaleBlack   = selection6[(selection6['gender']== 'Male') & (selection6['ethnicity']=='Black')]\n",
        "\n",
        "selectFemaleWhite = len(selectFemaleWhite)\n",
        "selectMaleWhite   =len(selectMaleWhite)\n",
        "selectFemaleHispanic = len(selectFemaleHispanic)  \n",
        "selectMaleHispanic  = len(selectMaleHispanic)\n",
        "selectFemaleBlack = len(selectFemaleBlack)\n",
        "selectMaleBlack = len(selectMaleBlack)\n",
        "\n",
        "# print'number of Female white within the Police group =' + str(selectFemaleWhite)\n",
        "print(\"number of white Female in the Firefighter EMT group =\", selectFemaleWhite)\n",
        "print(\"number of white Male in the Firefighter EMT group =\", selectMaleWhite)\n",
        "print()\n",
        "print(\"number of Hispanic Female in the Firefighter EMT group =\", selectFemaleHispanic)\n",
        "print(\"number of Hispanic Male in Firefighter EMT group=\", selectMaleHispanic)\n",
        "print()\n",
        "print(\"number of black Female in the Firefighter EMT group =\", selectFemaleBlack)\n",
        "print(\"number of black Male in the Firefighter EMT group =\", selectMaleBlack)\n"
      ],
      "execution_count": 0,
      "outputs": [
        {
          "output_type": "stream",
          "text": [
            "number of white Female in the Firefighter EMT group = 3\n",
            "number of white Male in the Firefighter EMT group = 158\n",
            "\n",
            "number of Hispanic Female in the Firefighter EMT group = 1\n",
            "number of Hispanic Male in Firefighter EMT group= 7\n",
            "\n",
            "number of black Female in the Firefighter EMT group = 6\n",
            "number of black Male in the Firefighter EMT group = 42\n"
          ],
          "name": "stdout"
        }
      ]
    },
    {
      "cell_type": "markdown",
      "metadata": {
        "id": "YbezvqqBJCgW",
        "colab_type": "text"
      },
      "source": [
        "**selecting the Police Sergeant Position**"
      ]
    },
    {
      "cell_type": "code",
      "metadata": {
        "id": "0D_3wOdODJgX",
        "colab_type": "code",
        "outputId": "c4c4d702-2849-41d0-8b41-8791626b97f8",
        "colab": {
          "base_uri": "https://localhost:8080/",
          "height": 407
        }
      },
      "source": [
        "selection8 = df4MergeDrop[df4MergeDrop['position_title']=='Police Sergeant']\n",
        "selection8 = selection8\n",
        "selection8\n",
        "\n",
        "# selection8= selection8[['position_title','base_salary','Yeardiff','start_year','end_year','gender','ethnicity','education']]\n",
        "# selection8.tail(5)"
      ],
      "execution_count": 0,
      "outputs": [
        {
          "output_type": "execute_result",
          "data": {
            "text/html": [
              "<div>\n",
              "<style scoped>\n",
              "    .dataframe tbody tr th:only-of-type {\n",
              "        vertical-align: middle;\n",
              "    }\n",
              "\n",
              "    .dataframe tbody tr th {\n",
              "        vertical-align: top;\n",
              "    }\n",
              "\n",
              "    .dataframe thead th {\n",
              "        text-align: right;\n",
              "    }\n",
              "</style>\n",
              "<table border=\"1\" class=\"dataframe\">\n",
              "  <thead>\n",
              "    <tr style=\"text-align: right;\">\n",
              "      <th></th>\n",
              "      <th>department</th>\n",
              "      <th>position_title</th>\n",
              "      <th>employee_status</th>\n",
              "      <th>start_year</th>\n",
              "      <th>end_year</th>\n",
              "      <th>base_salary</th>\n",
              "      <th>city</th>\n",
              "      <th>gender</th>\n",
              "      <th>ethnicity</th>\n",
              "      <th>education</th>\n",
              "      <th>birth_year</th>\n",
              "      <th>Yeardiff</th>\n",
              "    </tr>\n",
              "  </thead>\n",
              "  <tbody>\n",
              "    <tr>\n",
              "      <th>14600</th>\n",
              "      <td>Police Administration - Sworn</td>\n",
              "      <td>Police Sergeant</td>\n",
              "      <td>Permanent Full-time</td>\n",
              "      <td>2008</td>\n",
              "      <td>2019</td>\n",
              "      <td>67305.0</td>\n",
              "      <td>Virginia Beach</td>\n",
              "      <td>Male</td>\n",
              "      <td>White</td>\n",
              "      <td>A-Not Indicated</td>\n",
              "      <td>1985</td>\n",
              "      <td>11</td>\n",
              "    </tr>\n",
              "    <tr>\n",
              "      <th>14601</th>\n",
              "      <td>Police Administration - Sworn</td>\n",
              "      <td>Police Sergeant</td>\n",
              "      <td>Permanent Full-time</td>\n",
              "      <td>2006</td>\n",
              "      <td>2018</td>\n",
              "      <td>68988.0</td>\n",
              "      <td>Norfolk</td>\n",
              "      <td>Female</td>\n",
              "      <td>White</td>\n",
              "      <td>A-Not Indicated</td>\n",
              "      <td>1983</td>\n",
              "      <td>12</td>\n",
              "    </tr>\n",
              "    <tr>\n",
              "      <th>14602</th>\n",
              "      <td>Police Administration - Sworn</td>\n",
              "      <td>Police Sergeant</td>\n",
              "      <td>Permanent Full-time</td>\n",
              "      <td>2005</td>\n",
              "      <td>2019</td>\n",
              "      <td>68993.6</td>\n",
              "      <td>Chesapeake</td>\n",
              "      <td>Male</td>\n",
              "      <td>White</td>\n",
              "      <td>A-Not Indicated</td>\n",
              "      <td>1983</td>\n",
              "      <td>14</td>\n",
              "    </tr>\n",
              "    <tr>\n",
              "      <th>14604</th>\n",
              "      <td>Police Administration - Sworn</td>\n",
              "      <td>Police Sergeant</td>\n",
              "      <td>Permanent Full-time</td>\n",
              "      <td>1996</td>\n",
              "      <td>2006</td>\n",
              "      <td>77960.0</td>\n",
              "      <td>Virginia Beach</td>\n",
              "      <td>Male</td>\n",
              "      <td>White</td>\n",
              "      <td>A-Not Indicated</td>\n",
              "      <td>1968</td>\n",
              "      <td>10</td>\n",
              "    </tr>\n",
              "    <tr>\n",
              "      <th>14605</th>\n",
              "      <td>Police Administration - Sworn</td>\n",
              "      <td>Police Sergeant</td>\n",
              "      <td>Permanent Full-time</td>\n",
              "      <td>1993</td>\n",
              "      <td>2005</td>\n",
              "      <td>79909.0</td>\n",
              "      <td>Chesapeake</td>\n",
              "      <td>Male</td>\n",
              "      <td>White</td>\n",
              "      <td>A-Not Indicated</td>\n",
              "      <td>1964</td>\n",
              "      <td>12</td>\n",
              "    </tr>\n",
              "    <tr>\n",
              "      <th>...</th>\n",
              "      <td>...</td>\n",
              "      <td>...</td>\n",
              "      <td>...</td>\n",
              "      <td>...</td>\n",
              "      <td>...</td>\n",
              "      <td>...</td>\n",
              "      <td>...</td>\n",
              "      <td>...</td>\n",
              "      <td>...</td>\n",
              "      <td>...</td>\n",
              "      <td>...</td>\n",
              "      <td>...</td>\n",
              "    </tr>\n",
              "    <tr>\n",
              "      <th>23663</th>\n",
              "      <td>Police Investigative Svc-Sworn</td>\n",
              "      <td>Police Sergeant</td>\n",
              "      <td>Permanent Full-time</td>\n",
              "      <td>1994</td>\n",
              "      <td>2007</td>\n",
              "      <td>77960.0</td>\n",
              "      <td>Chesapeake</td>\n",
              "      <td>Male</td>\n",
              "      <td>White</td>\n",
              "      <td>A-Not Indicated</td>\n",
              "      <td>1968</td>\n",
              "      <td>13</td>\n",
              "    </tr>\n",
              "    <tr>\n",
              "      <th>23664</th>\n",
              "      <td>Police Investigative Svc-Sworn</td>\n",
              "      <td>Police Sergeant</td>\n",
              "      <td>Permanent Full-time</td>\n",
              "      <td>2002</td>\n",
              "      <td>2010</td>\n",
              "      <td>74248.0</td>\n",
              "      <td>Suffolk</td>\n",
              "      <td>Male</td>\n",
              "      <td>Black</td>\n",
              "      <td>A-Not Indicated</td>\n",
              "      <td>1970</td>\n",
              "      <td>8</td>\n",
              "    </tr>\n",
              "    <tr>\n",
              "      <th>23665</th>\n",
              "      <td>Police Investigative Svc-Sworn</td>\n",
              "      <td>Police Sergeant</td>\n",
              "      <td>Permanent Full-time</td>\n",
              "      <td>2006</td>\n",
              "      <td>2019</td>\n",
              "      <td>74248.0</td>\n",
              "      <td>Norfolk</td>\n",
              "      <td>Male</td>\n",
              "      <td>White</td>\n",
              "      <td>A-Not Indicated</td>\n",
              "      <td>1983</td>\n",
              "      <td>13</td>\n",
              "    </tr>\n",
              "    <tr>\n",
              "      <th>23666</th>\n",
              "      <td>Police Investigative Svc-Sworn</td>\n",
              "      <td>Police Sergeant</td>\n",
              "      <td>Permanent Full-time</td>\n",
              "      <td>1991</td>\n",
              "      <td>2006</td>\n",
              "      <td>77960.0</td>\n",
              "      <td>Moyock</td>\n",
              "      <td>Male</td>\n",
              "      <td>White</td>\n",
              "      <td>A-Not Indicated</td>\n",
              "      <td>1966</td>\n",
              "      <td>15</td>\n",
              "    </tr>\n",
              "    <tr>\n",
              "      <th>23667</th>\n",
              "      <td>Police Investigative Svc-Sworn</td>\n",
              "      <td>Police Sergeant</td>\n",
              "      <td>Permanent Full-time</td>\n",
              "      <td>1997</td>\n",
              "      <td>2007</td>\n",
              "      <td>77960.0</td>\n",
              "      <td>Virginia Beach</td>\n",
              "      <td>Male</td>\n",
              "      <td>White</td>\n",
              "      <td>A-Not Indicated</td>\n",
              "      <td>1970</td>\n",
              "      <td>10</td>\n",
              "    </tr>\n",
              "  </tbody>\n",
              "</table>\n",
              "<p>155 rows × 12 columns</p>\n",
              "</div>"
            ],
            "text/plain": [
              "                           department   position_title  ... birth_year  Yeardiff\n",
              "14600   Police Administration - Sworn  Police Sergeant  ...       1985        11\n",
              "14601   Police Administration - Sworn  Police Sergeant  ...       1983        12\n",
              "14602   Police Administration - Sworn  Police Sergeant  ...       1983        14\n",
              "14604   Police Administration - Sworn  Police Sergeant  ...       1968        10\n",
              "14605   Police Administration - Sworn  Police Sergeant  ...       1964        12\n",
              "...                               ...              ...  ...        ...       ...\n",
              "23663  Police Investigative Svc-Sworn  Police Sergeant  ...       1968        13\n",
              "23664  Police Investigative Svc-Sworn  Police Sergeant  ...       1970         8\n",
              "23665  Police Investigative Svc-Sworn  Police Sergeant  ...       1983        13\n",
              "23666  Police Investigative Svc-Sworn  Police Sergeant  ...       1966        15\n",
              "23667  Police Investigative Svc-Sworn  Police Sergeant  ...       1970        10\n",
              "\n",
              "[155 rows x 12 columns]"
            ]
          },
          "metadata": {
            "tags": []
          },
          "execution_count": 81
        }
      ]
    },
    {
      "cell_type": "code",
      "metadata": {
        "id": "4DT-6ioFDf-T",
        "colab_type": "code",
        "outputId": "693f6334-d9b5-4586-a6ff-a1e9969fe209",
        "colab": {
          "base_uri": "https://localhost:8080/",
          "height": 199
        }
      },
      "source": [
        "selectMaleWhite   = selection8[(selection8['gender']== 'Male') & (selection8['ethnicity']== 'White') ]\n",
        "selectFemaleWhite = selection8[(selection8['gender']== 'Female') & (selection8['ethnicity']== 'White') ]\n",
        "\n",
        "selectFemaleHispanic = selection8[(selection8['gender']== 'Female') & (selection8['ethnicity']== 'Hispanic')]\n",
        "selectMaleHispanic   = selection8[(selection8['gender']== 'Male') & (selection8['ethnicity']== 'Hispanic')]\n",
        "\n",
        "selectFemaleBlack = selection8[(selection8['gender']== 'Female') & (selection8['ethnicity']== 'Black')]\n",
        "selectMaleBlack   = selection8[(selection8['gender']== 'Male') & (selection8['ethnicity']=='Black')]\n",
        "\n",
        "selectMaleAsian   = selection8[(selection8['gender']== 'Male') & (selection8['ethnicity']=='Asian')]\n",
        "\n",
        "selectFemaleWhite = len(selectFemaleWhite)\n",
        "selectMaleWhite   =len(selectMaleWhite)\n",
        "selectFemaleHispanic = len(selectFemaleHispanic)  \n",
        "selectMaleHispanic  = len(selectMaleHispanic)\n",
        "selectFemaleBlack = len(selectFemaleBlack)\n",
        "selectMaleBlack = len(selectMaleBlack)\n",
        "\n",
        "selectMaleAsian = len(selectMaleAsian)\n",
        "\n",
        "# print'number of Female white within the Police group =' + str(selectFemaleWhite)\n",
        "print(\"number of white Female in the Police Sergeant Position =\", selectFemaleWhite)\n",
        "print(\"number of white Male in the Police Sergeant Position =\", selectMaleWhite)\n",
        "print()\n",
        "print(\"number of Hispanic Female in the Police Sergeant Position =\", selectFemaleHispanic)\n",
        "print(\"number of Hispanic Male in Police Sergeant Positionp=\", selectMaleHispanic)\n",
        "print()\n",
        "print(\"number of black Female in the Police Sergeant Position =\", selectFemaleBlack)\n",
        "print(\"number of black Male in the Police Sergeant Position =\", selectMaleBlack)\n",
        "\n",
        "print ()\n",
        "print(\"number of Asian Male in the Police Sergeant Position =\", selectMaleBlack)"
      ],
      "execution_count": 0,
      "outputs": [
        {
          "output_type": "stream",
          "text": [
            "number of white Female in the Police Sergeant Position = 4\n",
            "number of white Male in the Police Sergeant Position = 107\n",
            "\n",
            "number of Hispanic Female in the Police Sergeant Position = 0\n",
            "number of Hispanic Male in Police Sergeant Positionp= 8\n",
            "\n",
            "number of black Female in the Police Sergeant Position = 11\n",
            "number of black Male in the Police Sergeant Position = 22\n",
            "\n",
            "number of Asian Male in the Police Sergeant Position = 22\n"
          ],
          "name": "stdout"
        }
      ]
    },
    {
      "cell_type": "code",
      "metadata": {
        "id": "LFJ6Ph_DJ1O1",
        "colab_type": "code",
        "outputId": "91be2f58-d64e-4e70-9676-c13441698166",
        "colab": {
          "base_uri": "https://localhost:8080/",
          "height": 631
        }
      },
      "source": [
        "selection10= selection8[['base_salary']]\n",
        "def zscore(selection10): \n",
        "    return (selection10 - selection10.mean(skipna=True)) / selection10.std(skipna=True);\n",
        "    \n",
        "\n",
        "selection8['Zscorebase_salary'] = selection10.apply(zscore)\n",
        "\n",
        "plt.figure(figsize=(20,8))\n",
        "sns.violinplot(x=\"ethnicity\",y=\"Zscorebase_salary\", hue=\"gender\",data=selection8,palette=\"pastel\",split = False)"
      ],
      "execution_count": 0,
      "outputs": [
        {
          "output_type": "stream",
          "text": [
            "/usr/local/lib/python3.6/dist-packages/ipykernel_launcher.py:6: SettingWithCopyWarning: \n",
            "A value is trying to be set on a copy of a slice from a DataFrame.\n",
            "Try using .loc[row_indexer,col_indexer] = value instead\n",
            "\n",
            "See the caveats in the documentation: http://pandas.pydata.org/pandas-docs/stable/user_guide/indexing.html#returning-a-view-versus-a-copy\n",
            "  \n"
          ],
          "name": "stderr"
        },
        {
          "output_type": "execute_result",
          "data": {
            "text/plain": [
              "<matplotlib.axes._subplots.AxesSubplot at 0x7f25a4cb1940>"
            ]
          },
          "metadata": {
            "tags": []
          },
          "execution_count": 119
        },
        {
          "output_type": "display_data",
          "data": {
            "image/png": "[encoded data removed]",
            "text/plain": [
              "<Figure size 1440x576 with 1 Axes>"
            ]
          },
          "metadata": {
            "tags": []
          }
        }
      ]
    },
    {
      "cell_type": "code",
      "metadata": {
        "id": "a2olrevQ25sk",
        "colab_type": "code",
        "colab": {}
      },
      "source": [
        ""
      ],
      "execution_count": 0,
      "outputs": []
    },
    {
      "cell_type": "markdown",
      "metadata": {
        "id": "6BuDCyu1Dywp",
        "colab_type": "text"
      },
      "source": [
        "#Summary\n",
        "\n",
        "Name : Bisi Adeniran\n"
      ]
    },
    {
      "cell_type": "markdown",
      "metadata": {
        "id": "8MKOiwmoHRfX",
        "colab_type": "text"
      },
      "source": [
        "**Disolving the Myth surrounding Gender,Ethninc and Job descrimination in the city of Norfolk**"
      ]
    },
    {
      "cell_type": "code",
      "metadata": {
        "id": "g8jsO8sJI5_T",
        "colab_type": "code",
        "outputId": "d1963900-3248-44e0-cca5-35d12cbb3bae",
        "colab": {
          "resources": {
            "http://localhost:8080/nbextensions/google.colab/files.js": {
              "data": "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",
              "ok": true,
              "headers": [
                [
                  "content-type",
                  "application/javascript"
                ]
              ],
              "status": 200,
              "status_text": ""
            }
          },
          "base_uri": "https://localhost:8080/",
          "height": 179
        }
      },
      "source": [
        "from IPython.display import Image\n",
        "uploaded = files.upload()"
      ],
      "execution_count": 0,
      "outputs": [
        {
          "output_type": "display_data",
          "data": {
            "text/html": [
              "\n",
              "     <input type=\"file\" id=\"files-5603d758-fef4-4a54-8cd6-d70e7a6da49d\" name=\"files[]\" multiple disabled />\n",
              "     <output id=\"result-5603d758-fef4-4a54-8cd6-d70e7a6da49d\">\n",
              "      Upload widget is only available when the cell has been executed in the\n",
              "      current browser session. Please rerun this cell to enable.\n",
              "      </output>\n",
              "      <script src=\"/nbextensions/google.colab/files.js\"></script> "
            ],
            "text/plain": [
              "<IPython.core.display.HTML object>"
            ]
          },
          "metadata": {
            "tags": []
          }
        },
        {
          "output_type": "stream",
          "text": [
            "Saving Demographics2.JPG to Demographics2.JPG\n",
            "Saving Police officer group.JPG to Police officer group (1).JPG\n",
            "Saving Police Seargent group.JPG to Police Seargent group (1).JPG\n",
            "Saving Youth workers.JPG to Youth workers (1).JPG\n"
          ],
          "name": "stdout"
        }
      ]
    },
    {
      "cell_type": "code",
      "metadata": {
        "id": "7AZ8rdQkKWrV",
        "colab_type": "code",
        "outputId": "6af84629-d221-4ab4-b058-da65fd93240f",
        "colab": {
          "base_uri": "https://localhost:8080/",
          "height": 694
        }
      },
      "source": [
        "Image('Demographics2.JPG', width = 1000 )"
      ],
      "execution_count": 0,
      "outputs": [
        {
          "output_type": "execute_result",
          "data": {
            "image/jpeg": "[encoded data removed]",
            "text/plain": [
              "<IPython.core.display.Image object>"
            ]
          },
          "metadata": {
            "tags": [],
            "image/jpeg": {
              "width": 1000
            }
          },
          "execution_count": 118
        }
      ]
    },
    {
      "cell_type": "markdown",
      "metadata": {
        "id": "g06m08PcP-Jc",
        "colab_type": "text"
      },
      "source": [
        "In the city of Norfolk which is home to a population of over 244,000 people, one would say discrimination and bias towards certain individuals does not exist but according to the saying,\" The facts are in the details\" and \"Numbers dont lie\", It could be infered from the above charts that 'YES' there is some form of discrimination going on. \n",
        "\n",
        "\n",
        "\n",
        "\n",
        "**A careful observation of the Police officer group below reveals that white female within this group earn far less in terms of base salary when compared to white male**. A robust formation at the first 25 percentile of violin plot reveals\n",
        "the hypothesis is true. There were not much difference in salary between the \n",
        "Black female and Male. The Hispanics had a much rather stagggering base salary but Hispanic female do make more in terms of salary while the American Indians even though were not much,their presence in this group still had higher pay \n"
      ]
    },
    {
      "cell_type": "markdown",
      "metadata": {
        "id": "2cD4eE6kbSfc",
        "colab_type": "text"
      },
      "source": [
        ""
      ]
    },
    {
      "cell_type": "code",
      "metadata": {
        "id": "y9mV7vwPSdH8",
        "colab_type": "code",
        "outputId": "6556dbf1-978d-49e9-94c0-ab2de564298f",
        "colab": {
          "base_uri": "https://localhost:8080/",
          "height": 436
        }
      },
      "source": [
        "Image('Police officer group.JPG', width = 1000 )"
      ],
      "execution_count": 0,
      "outputs": [
        {
          "output_type": "execute_result",
          "data": {
            "image/jpeg": "[encoded data removed]",
            "text/plain": [
              "<IPython.core.display.Image object>"
            ]
          },
          "metadata": {
            "tags": [],
            "image/jpeg": {
              "width": 1000
            }
          },
          "execution_count": 130
        }
      ]
    },
    {
      "cell_type": "code",
      "metadata": {
        "id": "6J-YTFdnWWed",
        "colab_type": "code",
        "colab": {}
      },
      "source": [
        ""
      ],
      "execution_count": 0,
      "outputs": []
    },
    {
      "cell_type": "markdown",
      "metadata": {
        "id": "7-472jjuUeL7",
        "colab_type": "text"
      },
      "source": [
        "Another very interesting fact obtained during this project is the skewedness of a particular ethnic and gender specific group to a position. African American female were predominat in the **YOUTH SERVICE WORKER** group while the white Male and female were far out numbered."
      ]
    },
    {
      "cell_type": "code",
      "metadata": {
        "id": "lRTQU0JsWhjt",
        "colab_type": "code",
        "outputId": "89f82896-4a41-47c8-ca96-4ff5204aa122",
        "colab": {
          "base_uri": "https://localhost:8080/",
          "height": 290
        }
      },
      "source": [
        "Image('Youth workers.JPG', width = 1000 )"
      ],
      "execution_count": 0,
      "outputs": [
        {
          "output_type": "execute_result",
          "data": {
            "image/jpeg": "[encoded data removed]",
            "text/plain": [
              "<IPython.core.display.Image object>"
            ]
          },
          "metadata": {
            "tags": [],
            "image/jpeg": {
              "width": 1000
            }
          },
          "execution_count": 133
        }
      ]
    },
    {
      "cell_type": "code",
      "metadata": {
        "id": "uXit1AQMZxpo",
        "colab_type": "code",
        "colab": {}
      },
      "source": [
        ""
      ],
      "execution_count": 0,
      "outputs": []
    },
    {
      "cell_type": "markdown",
      "metadata": {
        "id": "GsMg447oZwaX",
        "colab_type": "text"
      },
      "source": [
        "**The third observation** is within the Police Seargant group. Again as a white male, you make much more in salary when compared to a white female, Both black Male and Female made about the same.though the Asians were not much there base salary were much closer to the female white in the distribution. "
      ]
    },
    {
      "cell_type": "code",
      "metadata": {
        "id": "FF5NoG_Ht8v0",
        "colab_type": "code",
        "colab": {}
      },
      "source": [
        ""
      ],
      "execution_count": 0,
      "outputs": []
    },
    {
      "cell_type": "code",
      "metadata": {
        "id": "Fn41TSrbt9DZ",
        "colab_type": "code",
        "colab": {}
      },
      "source": [
        ""
      ],
      "execution_count": 0,
      "outputs": []
    }
  ]
}